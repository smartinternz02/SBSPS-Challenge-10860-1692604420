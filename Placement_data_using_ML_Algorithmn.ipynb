{
 "cells": [
  {
   "cell_type": "markdown",
   "id": "nK08CLeuzy4v",
   "metadata": {
    "id": "nK08CLeuzy4v"
   },
   "source": [
    "# Identifying Patterns and Trends in Campus Placement Data using Machine Learning:\n",
    "\n",
    "Table Content:\n",
    "  \n",
    "  1.Introduction\n",
    "  \n",
    "  2.Installing Libraries\n",
    "  \n",
    "  3.Importing Data\n",
    "  \n",
    "  4.Missing Value Analysis\n",
    "  \n",
    "  5.Exploratory Data Analysis\n",
    "  \n",
    "  6.Modeling\n",
    "  \n",
    "  7.Prediction\n",
    "\n",
    "INTRODUCTION:\n",
    "\n",
    "Campus placement is the process of recruiting graduates from colleges and universities by companies. It is an important process for both students and companies. Students need to get placement offers to start their careers, and companies need to find the best talent to fill their open positions.\n",
    "\n",
    "Machine learning is a type of artificial intelligence that can be used to identify patterns and trends in data. This can be used to improve the campus placement process in a number of ways."
   ]
  },
  {
   "cell_type": "code",
   "execution_count": 2,
   "id": "_VsTvZqDz4J8",
   "metadata": {
    "id": "_VsTvZqDz4J8"
   },
   "outputs": [],
   "source": [
    "#Importing Libraries\n",
    "\n",
    "import numpy as np\n",
    "import pandas as pd\n",
    "import matplotlib.pyplot as plt\n",
    "import seaborn as sns\n",
    "from collections import Counter"
   ]
  },
  {
   "cell_type": "code",
   "execution_count": 3,
   "id": "d50fae1e",
   "metadata": {
    "id": "d50fae1e"
   },
   "outputs": [],
   "source": [
    "import warnings\n",
    "from sklearn.neighbors import KNeighborsClassifier\n",
    "from sklearn import preprocessing\n",
    "from sklearn import metrics\n",
    "from sklearn.svm import SVC\n",
    "from sklearn.naive_bayes import GaussianNB\n",
    "from sklearn.tree import DecisionTreeClassifier\n",
    "from sklearn.ensemble import RandomForestClassifier\n",
    "from sklearn.ensemble import AdaBoostClassifier\n",
    "from sklearn.ensemble import GradientBoostingClassifier\n",
    "from xgboost import XGBClassifier\n",
    "from sklearn.model_selection import GridSearchCV\n",
    "from sklearn.metrics import ConfusionMatrixDisplay,classification_report\n",
    "warnings.filterwarnings('ignore')\n",
    "%matplotlib inline\n",
    "from sklearn.preprocessing import LabelEncoder\n",
    "from sklearn.model_selection import train_test_split\n",
    "from sklearn.linear_model import LogisticRegression\n",
    "from sklearn.metrics import accuracy_score, f1_score, precision_score, recall_score\n"
   ]
  },
  {
   "cell_type": "markdown",
   "id": "aeeec28e",
   "metadata": {},
   "source": [
    "Loading Dataset:"
   ]
  },
  {
   "cell_type": "code",
   "execution_count": 19,
   "id": "6bd7f36c",
   "metadata": {
    "colab": {
     "base_uri": "https://localhost:8080/",
     "height": 458
    },
    "id": "6bd7f36c",
    "outputId": "96390767-8cf8-45b2-a479-95403dc24646"
   },
   "outputs": [
    {
     "data": {
      "text/html": [
       "<div>\n",
       "<style scoped>\n",
       "    .dataframe tbody tr th:only-of-type {\n",
       "        vertical-align: middle;\n",
       "    }\n",
       "\n",
       "    .dataframe tbody tr th {\n",
       "        vertical-align: top;\n",
       "    }\n",
       "\n",
       "    .dataframe thead th {\n",
       "        text-align: right;\n",
       "    }\n",
       "</style>\n",
       "<table border=\"1\" class=\"dataframe\">\n",
       "  <thead>\n",
       "    <tr style=\"text-align: right;\">\n",
       "      <th></th>\n",
       "      <th>sl_no</th>\n",
       "      <th>gender</th>\n",
       "      <th>ssc_p</th>\n",
       "      <th>ssc_b</th>\n",
       "      <th>hsc_p</th>\n",
       "      <th>hsc_b</th>\n",
       "      <th>hsc_s</th>\n",
       "      <th>degree_p</th>\n",
       "      <th>degree_t</th>\n",
       "      <th>workex</th>\n",
       "      <th>etest_p</th>\n",
       "      <th>specialisation</th>\n",
       "      <th>mba_p</th>\n",
       "      <th>status</th>\n",
       "      <th>salary</th>\n",
       "    </tr>\n",
       "  </thead>\n",
       "  <tbody>\n",
       "    <tr>\n",
       "      <th>0</th>\n",
       "      <td>1</td>\n",
       "      <td>M</td>\n",
       "      <td>67.00</td>\n",
       "      <td>Others</td>\n",
       "      <td>91.00</td>\n",
       "      <td>Others</td>\n",
       "      <td>Commerce</td>\n",
       "      <td>58.00</td>\n",
       "      <td>Sci&amp;Tech</td>\n",
       "      <td>No</td>\n",
       "      <td>55.0</td>\n",
       "      <td>Mkt&amp;HR</td>\n",
       "      <td>58.80</td>\n",
       "      <td>Placed</td>\n",
       "      <td>270000.0</td>\n",
       "    </tr>\n",
       "    <tr>\n",
       "      <th>1</th>\n",
       "      <td>2</td>\n",
       "      <td>M</td>\n",
       "      <td>79.33</td>\n",
       "      <td>Central</td>\n",
       "      <td>78.33</td>\n",
       "      <td>Others</td>\n",
       "      <td>Science</td>\n",
       "      <td>77.48</td>\n",
       "      <td>Sci&amp;Tech</td>\n",
       "      <td>Yes</td>\n",
       "      <td>86.5</td>\n",
       "      <td>Mkt&amp;Fin</td>\n",
       "      <td>66.28</td>\n",
       "      <td>Placed</td>\n",
       "      <td>200000.0</td>\n",
       "    </tr>\n",
       "    <tr>\n",
       "      <th>2</th>\n",
       "      <td>3</td>\n",
       "      <td>M</td>\n",
       "      <td>65.00</td>\n",
       "      <td>Central</td>\n",
       "      <td>68.00</td>\n",
       "      <td>Central</td>\n",
       "      <td>Arts</td>\n",
       "      <td>64.00</td>\n",
       "      <td>Comm&amp;Mgmt</td>\n",
       "      <td>No</td>\n",
       "      <td>75.0</td>\n",
       "      <td>Mkt&amp;Fin</td>\n",
       "      <td>57.80</td>\n",
       "      <td>Placed</td>\n",
       "      <td>250000.0</td>\n",
       "    </tr>\n",
       "    <tr>\n",
       "      <th>3</th>\n",
       "      <td>4</td>\n",
       "      <td>M</td>\n",
       "      <td>56.00</td>\n",
       "      <td>Central</td>\n",
       "      <td>52.00</td>\n",
       "      <td>Central</td>\n",
       "      <td>Science</td>\n",
       "      <td>52.00</td>\n",
       "      <td>Sci&amp;Tech</td>\n",
       "      <td>No</td>\n",
       "      <td>66.0</td>\n",
       "      <td>Mkt&amp;HR</td>\n",
       "      <td>59.43</td>\n",
       "      <td>Not Placed</td>\n",
       "      <td>NaN</td>\n",
       "    </tr>\n",
       "    <tr>\n",
       "      <th>4</th>\n",
       "      <td>5</td>\n",
       "      <td>M</td>\n",
       "      <td>85.80</td>\n",
       "      <td>Central</td>\n",
       "      <td>73.60</td>\n",
       "      <td>Central</td>\n",
       "      <td>Commerce</td>\n",
       "      <td>73.30</td>\n",
       "      <td>Comm&amp;Mgmt</td>\n",
       "      <td>No</td>\n",
       "      <td>96.8</td>\n",
       "      <td>Mkt&amp;Fin</td>\n",
       "      <td>55.50</td>\n",
       "      <td>Placed</td>\n",
       "      <td>425000.0</td>\n",
       "    </tr>\n",
       "    <tr>\n",
       "      <th>...</th>\n",
       "      <td>...</td>\n",
       "      <td>...</td>\n",
       "      <td>...</td>\n",
       "      <td>...</td>\n",
       "      <td>...</td>\n",
       "      <td>...</td>\n",
       "      <td>...</td>\n",
       "      <td>...</td>\n",
       "      <td>...</td>\n",
       "      <td>...</td>\n",
       "      <td>...</td>\n",
       "      <td>...</td>\n",
       "      <td>...</td>\n",
       "      <td>...</td>\n",
       "      <td>...</td>\n",
       "    </tr>\n",
       "    <tr>\n",
       "      <th>210</th>\n",
       "      <td>211</td>\n",
       "      <td>M</td>\n",
       "      <td>80.60</td>\n",
       "      <td>Others</td>\n",
       "      <td>82.00</td>\n",
       "      <td>Others</td>\n",
       "      <td>Commerce</td>\n",
       "      <td>77.60</td>\n",
       "      <td>Comm&amp;Mgmt</td>\n",
       "      <td>No</td>\n",
       "      <td>91.0</td>\n",
       "      <td>Mkt&amp;Fin</td>\n",
       "      <td>74.49</td>\n",
       "      <td>Placed</td>\n",
       "      <td>400000.0</td>\n",
       "    </tr>\n",
       "    <tr>\n",
       "      <th>211</th>\n",
       "      <td>212</td>\n",
       "      <td>M</td>\n",
       "      <td>58.00</td>\n",
       "      <td>Others</td>\n",
       "      <td>60.00</td>\n",
       "      <td>Others</td>\n",
       "      <td>Science</td>\n",
       "      <td>72.00</td>\n",
       "      <td>Sci&amp;Tech</td>\n",
       "      <td>No</td>\n",
       "      <td>74.0</td>\n",
       "      <td>Mkt&amp;Fin</td>\n",
       "      <td>53.62</td>\n",
       "      <td>Placed</td>\n",
       "      <td>275000.0</td>\n",
       "    </tr>\n",
       "    <tr>\n",
       "      <th>212</th>\n",
       "      <td>213</td>\n",
       "      <td>M</td>\n",
       "      <td>67.00</td>\n",
       "      <td>Others</td>\n",
       "      <td>67.00</td>\n",
       "      <td>Others</td>\n",
       "      <td>Commerce</td>\n",
       "      <td>73.00</td>\n",
       "      <td>Comm&amp;Mgmt</td>\n",
       "      <td>Yes</td>\n",
       "      <td>59.0</td>\n",
       "      <td>Mkt&amp;Fin</td>\n",
       "      <td>69.72</td>\n",
       "      <td>Placed</td>\n",
       "      <td>295000.0</td>\n",
       "    </tr>\n",
       "    <tr>\n",
       "      <th>213</th>\n",
       "      <td>214</td>\n",
       "      <td>F</td>\n",
       "      <td>74.00</td>\n",
       "      <td>Others</td>\n",
       "      <td>66.00</td>\n",
       "      <td>Others</td>\n",
       "      <td>Commerce</td>\n",
       "      <td>58.00</td>\n",
       "      <td>Comm&amp;Mgmt</td>\n",
       "      <td>No</td>\n",
       "      <td>70.0</td>\n",
       "      <td>Mkt&amp;HR</td>\n",
       "      <td>60.23</td>\n",
       "      <td>Placed</td>\n",
       "      <td>204000.0</td>\n",
       "    </tr>\n",
       "    <tr>\n",
       "      <th>214</th>\n",
       "      <td>215</td>\n",
       "      <td>M</td>\n",
       "      <td>62.00</td>\n",
       "      <td>Central</td>\n",
       "      <td>58.00</td>\n",
       "      <td>Others</td>\n",
       "      <td>Science</td>\n",
       "      <td>53.00</td>\n",
       "      <td>Comm&amp;Mgmt</td>\n",
       "      <td>No</td>\n",
       "      <td>89.0</td>\n",
       "      <td>Mkt&amp;HR</td>\n",
       "      <td>60.22</td>\n",
       "      <td>Not Placed</td>\n",
       "      <td>NaN</td>\n",
       "    </tr>\n",
       "  </tbody>\n",
       "</table>\n",
       "<p>215 rows × 15 columns</p>\n",
       "</div>"
      ],
      "text/plain": [
       "     sl_no gender  ssc_p    ssc_b  hsc_p    hsc_b     hsc_s  degree_p  \\\n",
       "0        1      M  67.00   Others  91.00   Others  Commerce     58.00   \n",
       "1        2      M  79.33  Central  78.33   Others   Science     77.48   \n",
       "2        3      M  65.00  Central  68.00  Central      Arts     64.00   \n",
       "3        4      M  56.00  Central  52.00  Central   Science     52.00   \n",
       "4        5      M  85.80  Central  73.60  Central  Commerce     73.30   \n",
       "..     ...    ...    ...      ...    ...      ...       ...       ...   \n",
       "210    211      M  80.60   Others  82.00   Others  Commerce     77.60   \n",
       "211    212      M  58.00   Others  60.00   Others   Science     72.00   \n",
       "212    213      M  67.00   Others  67.00   Others  Commerce     73.00   \n",
       "213    214      F  74.00   Others  66.00   Others  Commerce     58.00   \n",
       "214    215      M  62.00  Central  58.00   Others   Science     53.00   \n",
       "\n",
       "      degree_t workex  etest_p specialisation  mba_p      status    salary  \n",
       "0     Sci&Tech     No     55.0         Mkt&HR  58.80      Placed  270000.0  \n",
       "1     Sci&Tech    Yes     86.5        Mkt&Fin  66.28      Placed  200000.0  \n",
       "2    Comm&Mgmt     No     75.0        Mkt&Fin  57.80      Placed  250000.0  \n",
       "3     Sci&Tech     No     66.0         Mkt&HR  59.43  Not Placed       NaN  \n",
       "4    Comm&Mgmt     No     96.8        Mkt&Fin  55.50      Placed  425000.0  \n",
       "..         ...    ...      ...            ...    ...         ...       ...  \n",
       "210  Comm&Mgmt     No     91.0        Mkt&Fin  74.49      Placed  400000.0  \n",
       "211   Sci&Tech     No     74.0        Mkt&Fin  53.62      Placed  275000.0  \n",
       "212  Comm&Mgmt    Yes     59.0        Mkt&Fin  69.72      Placed  295000.0  \n",
       "213  Comm&Mgmt     No     70.0         Mkt&HR  60.23      Placed  204000.0  \n",
       "214  Comm&Mgmt     No     89.0         Mkt&HR  60.22  Not Placed       NaN  \n",
       "\n",
       "[215 rows x 15 columns]"
      ]
     },
     "execution_count": 19,
     "metadata": {},
     "output_type": "execute_result"
    }
   ],
   "source": [
    "df=pd.read_csv(\"Placement_Data_Full_Class.csv\")\n",
    "df"
   ]
  },
  {
   "cell_type": "markdown",
   "id": "214b9352",
   "metadata": {},
   "source": [
    "Data Cleaning:"
   ]
  },
  {
   "cell_type": "code",
   "execution_count": 20,
   "id": "a1c50022",
   "metadata": {},
   "outputs": [
    {
     "data": {
      "text/plain": [
       "sl_no              0\n",
       "gender             0\n",
       "ssc_p              0\n",
       "ssc_b              0\n",
       "hsc_p              0\n",
       "hsc_b              0\n",
       "hsc_s              0\n",
       "degree_p           0\n",
       "degree_t           0\n",
       "workex             0\n",
       "etest_p            0\n",
       "specialisation     0\n",
       "mba_p              0\n",
       "status             0\n",
       "salary            67\n",
       "dtype: int64"
      ]
     },
     "execution_count": 20,
     "metadata": {},
     "output_type": "execute_result"
    }
   ],
   "source": [
    "df.isnull().sum()"
   ]
  },
  {
   "cell_type": "code",
   "execution_count": 21,
   "id": "c6bf2c33",
   "metadata": {},
   "outputs": [],
   "source": [
    "#Remove unwanted features\n",
    "df.drop(['sl_no','ssc_b','hsc_b','salary'],axis=1,inplace=True)"
   ]
  },
  {
   "cell_type": "markdown",
   "id": "6fa09dca",
   "metadata": {},
   "source": [
    "EDA"
   ]
  },
  {
   "cell_type": "code",
   "execution_count": 22,
   "id": "64ce696a",
   "metadata": {
    "colab": {
     "base_uri": "https://localhost:8080/",
     "height": 223
    },
    "id": "64ce696a",
    "outputId": "536f3a75-7669-4df7-b236-7a9bf785020e"
   },
   "outputs": [
    {
     "data": {
      "text/html": [
       "<div>\n",
       "<style scoped>\n",
       "    .dataframe tbody tr th:only-of-type {\n",
       "        vertical-align: middle;\n",
       "    }\n",
       "\n",
       "    .dataframe tbody tr th {\n",
       "        vertical-align: top;\n",
       "    }\n",
       "\n",
       "    .dataframe thead th {\n",
       "        text-align: right;\n",
       "    }\n",
       "</style>\n",
       "<table border=\"1\" class=\"dataframe\">\n",
       "  <thead>\n",
       "    <tr style=\"text-align: right;\">\n",
       "      <th></th>\n",
       "      <th>gender</th>\n",
       "      <th>ssc_p</th>\n",
       "      <th>hsc_p</th>\n",
       "      <th>hsc_s</th>\n",
       "      <th>degree_p</th>\n",
       "      <th>degree_t</th>\n",
       "      <th>workex</th>\n",
       "      <th>etest_p</th>\n",
       "      <th>specialisation</th>\n",
       "      <th>mba_p</th>\n",
       "      <th>status</th>\n",
       "    </tr>\n",
       "  </thead>\n",
       "  <tbody>\n",
       "    <tr>\n",
       "      <th>0</th>\n",
       "      <td>M</td>\n",
       "      <td>67.00</td>\n",
       "      <td>91.00</td>\n",
       "      <td>Commerce</td>\n",
       "      <td>58.00</td>\n",
       "      <td>Sci&amp;Tech</td>\n",
       "      <td>No</td>\n",
       "      <td>55.0</td>\n",
       "      <td>Mkt&amp;HR</td>\n",
       "      <td>58.80</td>\n",
       "      <td>Placed</td>\n",
       "    </tr>\n",
       "    <tr>\n",
       "      <th>1</th>\n",
       "      <td>M</td>\n",
       "      <td>79.33</td>\n",
       "      <td>78.33</td>\n",
       "      <td>Science</td>\n",
       "      <td>77.48</td>\n",
       "      <td>Sci&amp;Tech</td>\n",
       "      <td>Yes</td>\n",
       "      <td>86.5</td>\n",
       "      <td>Mkt&amp;Fin</td>\n",
       "      <td>66.28</td>\n",
       "      <td>Placed</td>\n",
       "    </tr>\n",
       "    <tr>\n",
       "      <th>2</th>\n",
       "      <td>M</td>\n",
       "      <td>65.00</td>\n",
       "      <td>68.00</td>\n",
       "      <td>Arts</td>\n",
       "      <td>64.00</td>\n",
       "      <td>Comm&amp;Mgmt</td>\n",
       "      <td>No</td>\n",
       "      <td>75.0</td>\n",
       "      <td>Mkt&amp;Fin</td>\n",
       "      <td>57.80</td>\n",
       "      <td>Placed</td>\n",
       "    </tr>\n",
       "    <tr>\n",
       "      <th>3</th>\n",
       "      <td>M</td>\n",
       "      <td>56.00</td>\n",
       "      <td>52.00</td>\n",
       "      <td>Science</td>\n",
       "      <td>52.00</td>\n",
       "      <td>Sci&amp;Tech</td>\n",
       "      <td>No</td>\n",
       "      <td>66.0</td>\n",
       "      <td>Mkt&amp;HR</td>\n",
       "      <td>59.43</td>\n",
       "      <td>Not Placed</td>\n",
       "    </tr>\n",
       "    <tr>\n",
       "      <th>4</th>\n",
       "      <td>M</td>\n",
       "      <td>85.80</td>\n",
       "      <td>73.60</td>\n",
       "      <td>Commerce</td>\n",
       "      <td>73.30</td>\n",
       "      <td>Comm&amp;Mgmt</td>\n",
       "      <td>No</td>\n",
       "      <td>96.8</td>\n",
       "      <td>Mkt&amp;Fin</td>\n",
       "      <td>55.50</td>\n",
       "      <td>Placed</td>\n",
       "    </tr>\n",
       "  </tbody>\n",
       "</table>\n",
       "</div>"
      ],
      "text/plain": [
       "  gender  ssc_p  hsc_p     hsc_s  degree_p   degree_t workex  etest_p  \\\n",
       "0      M  67.00  91.00  Commerce     58.00   Sci&Tech     No     55.0   \n",
       "1      M  79.33  78.33   Science     77.48   Sci&Tech    Yes     86.5   \n",
       "2      M  65.00  68.00      Arts     64.00  Comm&Mgmt     No     75.0   \n",
       "3      M  56.00  52.00   Science     52.00   Sci&Tech     No     66.0   \n",
       "4      M  85.80  73.60  Commerce     73.30  Comm&Mgmt     No     96.8   \n",
       "\n",
       "  specialisation  mba_p      status  \n",
       "0         Mkt&HR  58.80      Placed  \n",
       "1        Mkt&Fin  66.28      Placed  \n",
       "2        Mkt&Fin  57.80      Placed  \n",
       "3         Mkt&HR  59.43  Not Placed  \n",
       "4        Mkt&Fin  55.50      Placed  "
      ]
     },
     "execution_count": 22,
     "metadata": {},
     "output_type": "execute_result"
    }
   ],
   "source": [
    "df.head()"
   ]
  },
  {
   "cell_type": "code",
   "execution_count": 23,
   "id": "3cb1e5b5",
   "metadata": {
    "colab": {
     "base_uri": "https://localhost:8080/"
    },
    "id": "3cb1e5b5",
    "outputId": "37a9449f-140b-4aec-9218-a412d3c2d19c"
   },
   "outputs": [
    {
     "name": "stdout",
     "output_type": "stream",
     "text": [
      "<class 'pandas.core.frame.DataFrame'>\n",
      "RangeIndex: 215 entries, 0 to 214\n",
      "Data columns (total 11 columns):\n",
      " #   Column          Non-Null Count  Dtype  \n",
      "---  ------          --------------  -----  \n",
      " 0   gender          215 non-null    object \n",
      " 1   ssc_p           215 non-null    float64\n",
      " 2   hsc_p           215 non-null    float64\n",
      " 3   hsc_s           215 non-null    object \n",
      " 4   degree_p        215 non-null    float64\n",
      " 5   degree_t        215 non-null    object \n",
      " 6   workex          215 non-null    object \n",
      " 7   etest_p         215 non-null    float64\n",
      " 8   specialisation  215 non-null    object \n",
      " 9   mba_p           215 non-null    float64\n",
      " 10  status          215 non-null    object \n",
      "dtypes: float64(5), object(6)\n",
      "memory usage: 18.6+ KB\n"
     ]
    }
   ],
   "source": [
    "df.info()"
   ]
  },
  {
   "cell_type": "code",
   "execution_count": 24,
   "id": "68496d24",
   "metadata": {
    "colab": {
     "base_uri": "https://localhost:8080/",
     "height": 300
    },
    "id": "68496d24",
    "outputId": "e54eafef-8746-46ca-fcc3-91f71c3279e5"
   },
   "outputs": [
    {
     "data": {
      "text/html": [
       "<div>\n",
       "<style scoped>\n",
       "    .dataframe tbody tr th:only-of-type {\n",
       "        vertical-align: middle;\n",
       "    }\n",
       "\n",
       "    .dataframe tbody tr th {\n",
       "        vertical-align: top;\n",
       "    }\n",
       "\n",
       "    .dataframe thead th {\n",
       "        text-align: right;\n",
       "    }\n",
       "</style>\n",
       "<table border=\"1\" class=\"dataframe\">\n",
       "  <thead>\n",
       "    <tr style=\"text-align: right;\">\n",
       "      <th></th>\n",
       "      <th>ssc_p</th>\n",
       "      <th>hsc_p</th>\n",
       "      <th>degree_p</th>\n",
       "      <th>etest_p</th>\n",
       "      <th>mba_p</th>\n",
       "    </tr>\n",
       "  </thead>\n",
       "  <tbody>\n",
       "    <tr>\n",
       "      <th>count</th>\n",
       "      <td>215.000000</td>\n",
       "      <td>215.000000</td>\n",
       "      <td>215.000000</td>\n",
       "      <td>215.000000</td>\n",
       "      <td>215.000000</td>\n",
       "    </tr>\n",
       "    <tr>\n",
       "      <th>mean</th>\n",
       "      <td>67.303395</td>\n",
       "      <td>66.333163</td>\n",
       "      <td>66.370186</td>\n",
       "      <td>72.100558</td>\n",
       "      <td>62.278186</td>\n",
       "    </tr>\n",
       "    <tr>\n",
       "      <th>std</th>\n",
       "      <td>10.827205</td>\n",
       "      <td>10.897509</td>\n",
       "      <td>7.358743</td>\n",
       "      <td>13.275956</td>\n",
       "      <td>5.833385</td>\n",
       "    </tr>\n",
       "    <tr>\n",
       "      <th>min</th>\n",
       "      <td>40.890000</td>\n",
       "      <td>37.000000</td>\n",
       "      <td>50.000000</td>\n",
       "      <td>50.000000</td>\n",
       "      <td>51.210000</td>\n",
       "    </tr>\n",
       "    <tr>\n",
       "      <th>25%</th>\n",
       "      <td>60.600000</td>\n",
       "      <td>60.900000</td>\n",
       "      <td>61.000000</td>\n",
       "      <td>60.000000</td>\n",
       "      <td>57.945000</td>\n",
       "    </tr>\n",
       "    <tr>\n",
       "      <th>50%</th>\n",
       "      <td>67.000000</td>\n",
       "      <td>65.000000</td>\n",
       "      <td>66.000000</td>\n",
       "      <td>71.000000</td>\n",
       "      <td>62.000000</td>\n",
       "    </tr>\n",
       "    <tr>\n",
       "      <th>75%</th>\n",
       "      <td>75.700000</td>\n",
       "      <td>73.000000</td>\n",
       "      <td>72.000000</td>\n",
       "      <td>83.500000</td>\n",
       "      <td>66.255000</td>\n",
       "    </tr>\n",
       "    <tr>\n",
       "      <th>max</th>\n",
       "      <td>89.400000</td>\n",
       "      <td>97.700000</td>\n",
       "      <td>91.000000</td>\n",
       "      <td>98.000000</td>\n",
       "      <td>77.890000</td>\n",
       "    </tr>\n",
       "  </tbody>\n",
       "</table>\n",
       "</div>"
      ],
      "text/plain": [
       "            ssc_p       hsc_p    degree_p     etest_p       mba_p\n",
       "count  215.000000  215.000000  215.000000  215.000000  215.000000\n",
       "mean    67.303395   66.333163   66.370186   72.100558   62.278186\n",
       "std     10.827205   10.897509    7.358743   13.275956    5.833385\n",
       "min     40.890000   37.000000   50.000000   50.000000   51.210000\n",
       "25%     60.600000   60.900000   61.000000   60.000000   57.945000\n",
       "50%     67.000000   65.000000   66.000000   71.000000   62.000000\n",
       "75%     75.700000   73.000000   72.000000   83.500000   66.255000\n",
       "max     89.400000   97.700000   91.000000   98.000000   77.890000"
      ]
     },
     "execution_count": 24,
     "metadata": {},
     "output_type": "execute_result"
    }
   ],
   "source": [
    "df.describe()"
   ]
  },
  {
   "cell_type": "code",
   "execution_count": 25,
   "id": "b0ZuLVteLUMh",
   "metadata": {
    "colab": {
     "base_uri": "https://localhost:8080/"
    },
    "id": "b0ZuLVteLUMh",
    "outputId": "a486afbf-3ddb-4244-d74f-eb862dd82d47"
   },
   "outputs": [
    {
     "data": {
      "text/plain": [
       "Placed        148\n",
       "Not Placed     67\n",
       "Name: status, dtype: int64"
      ]
     },
     "execution_count": 25,
     "metadata": {},
     "output_type": "execute_result"
    }
   ],
   "source": [
    "df['status'].value_counts()\n"
   ]
  },
  {
   "cell_type": "code",
   "execution_count": 26,
   "id": "AjO6ggVmNed5",
   "metadata": {
    "colab": {
     "base_uri": "https://localhost:8080/"
    },
    "id": "AjO6ggVmNed5",
    "outputId": "977ab4bd-1258-497e-8bda-925b5c458c24"
   },
   "outputs": [
    {
     "data": {
      "text/plain": [
       "(215, 11)"
      ]
     },
     "execution_count": 26,
     "metadata": {},
     "output_type": "execute_result"
    }
   ],
   "source": [
    "df.shape"
   ]
  },
  {
   "cell_type": "code",
   "execution_count": 27,
   "id": "OQ9fWkvpNeiP",
   "metadata": {
    "colab": {
     "base_uri": "https://localhost:8080/"
    },
    "id": "OQ9fWkvpNeiP",
    "outputId": "a186ea09-cdd4-45c7-ad00-6929c0642e38"
   },
   "outputs": [
    {
     "data": {
      "text/plain": [
       "gender             object\n",
       "ssc_p             float64\n",
       "hsc_p             float64\n",
       "hsc_s              object\n",
       "degree_p          float64\n",
       "degree_t           object\n",
       "workex             object\n",
       "etest_p           float64\n",
       "specialisation     object\n",
       "mba_p             float64\n",
       "status             object\n",
       "dtype: object"
      ]
     },
     "execution_count": 27,
     "metadata": {},
     "output_type": "execute_result"
    }
   ],
   "source": [
    "df.dtypes\n"
   ]
  },
  {
   "cell_type": "markdown",
   "id": "ac7bfc4f",
   "metadata": {},
   "source": [
    "Data Visualization:"
   ]
  },
  {
   "cell_type": "code",
   "execution_count": 28,
   "id": "8549f5b7",
   "metadata": {
    "colab": {
     "base_uri": "https://localhost:8080/",
     "height": 480
    },
    "id": "8549f5b7",
    "outputId": "454be2bc-f96e-4f3a-9262-38c8cbe0b773"
   },
   "outputs": [
    {
     "data": {
      "image/png": "[encoded data removed]",
      "text/plain": [
       "<Figure size 640x480 with 1 Axes>"
      ]
     },
     "metadata": {},
     "output_type": "display_data"
    }
   ],
   "source": [
    "status_counts = df['status'].value_counts()\n",
    "plt.pie(status_counts, labels = status_counts.index, autopct = '%1.1f%%')\n",
    "plt.title('Distribution of the Status of Candidates')\n",
    "plt.show()"
   ]
  },
  {
   "cell_type": "code",
   "execution_count": 29,
   "id": "82e5ed39",
   "metadata": {
    "colab": {
     "base_uri": "https://localhost:8080/",
     "height": 480
    },
    "id": "82e5ed39",
    "outputId": "2581fefb-3e02-41c8-fd68-4e4df8dcdcc0"
   },
   "outputs": [
    {
     "data": {
      "image/png": "[encoded data removed]",
      "text/plain": [
       "<Figure size 640x480 with 1 Axes>"
      ]
     },
     "metadata": {},
     "output_type": "display_data"
    }
   ],
   "source": [
    "status_counts = df['gender'].value_counts()\n",
    "plt.pie(status_counts, labels = status_counts.index, autopct = '%1.1f%%')\n",
    "plt.title('Distribution of the gender')\n",
    "plt.show()"
   ]
  },
  {
   "cell_type": "code",
   "execution_count": 30,
   "id": "Ors8DPr65R7J",
   "metadata": {
    "colab": {
     "base_uri": "https://localhost:8080/",
     "height": 480
    },
    "id": "Ors8DPr65R7J",
    "outputId": "ff97847f-8361-407e-a575-428790cbcaec"
   },
   "outputs": [
    {
     "data": {
      "image/png": "[encoded data removed]",
      "text/plain": [
       "<Figure size 640x480 with 1 Axes>"
      ]
     },
     "metadata": {},
     "output_type": "display_data"
    }
   ],
   "source": [
    "status_counts = df['hsc_s'].value_counts()\n",
    "plt.pie(status_counts, labels = status_counts.index, autopct = '%1.1f%%')\n",
    "plt.title('Distribution of the Specialization in Higher Secondary Education')\n",
    "plt.show()"
   ]
  },
  {
   "cell_type": "code",
   "execution_count": 31,
   "id": "bsrE_nx65hoe",
   "metadata": {
    "colab": {
     "base_uri": "https://localhost:8080/",
     "height": 480
    },
    "id": "bsrE_nx65hoe",
    "outputId": "9e6d379c-4e69-4288-9bc1-6865ca54de53"
   },
   "outputs": [
    {
     "data": {
      "image/png": "[encoded data removed]",
      "text/plain": [
       "<Figure size 640x480 with 1 Axes>"
      ]
     },
     "metadata": {},
     "output_type": "display_data"
    }
   ],
   "source": [
    "status_counts = df['degree_t'].value_counts()\n",
    "plt.pie(status_counts, labels = status_counts.index, autopct = '%1.1f%%')\n",
    "plt.title('Distribution of the field of degree education')\n",
    "plt.show()"
   ]
  },
  {
   "cell_type": "code",
   "execution_count": 32,
   "id": "9b2041f9",
   "metadata": {
    "colab": {
     "base_uri": "https://localhost:8080/",
     "height": 480
    },
    "id": "9b2041f9",
    "outputId": "ec572f53-0a27-4236-b2f0-1448078e3b85"
   },
   "outputs": [
    {
     "data": {
      "image/png": "[encoded data removed]",
      "text/plain": [
       "<Figure size 640x480 with 1 Axes>"
      ]
     },
     "metadata": {},
     "output_type": "display_data"
    }
   ],
   "source": [
    "status_counts = df['specialisation'].value_counts()\n",
    "plt.pie(status_counts, labels = status_counts.index, autopct = '%1.1f%%')\n",
    "plt.title('Distribution of the Specialisation')\n",
    "plt.show()"
   ]
  },
  {
   "cell_type": "code",
   "execution_count": 33,
   "id": "0fb69115",
   "metadata": {
    "colab": {
     "base_uri": "https://localhost:8080/",
     "height": 1000
    },
    "id": "0fb69115",
    "outputId": "98e5352a-5281-4bc7-97d3-82b98494c29a"
   },
   "outputs": [
    {
     "data": {
      "image/png": "[encoded data removed]",
      "text/plain": [
       "<Figure size 640x480 with 1 Axes>"
      ]
     },
     "metadata": {},
     "output_type": "display_data"
    },
    {
     "data": {
      "image/png": "[encoded data removed]",
      "text/plain": [
       "<Figure size 640x480 with 1 Axes>"
      ]
     },
     "metadata": {},
     "output_type": "display_data"
    },
    {
     "data": {
      "image/png": "[encoded data removed]",
      "text/plain": [
       "<Figure size 640x480 with 1 Axes>"
      ]
     },
     "metadata": {},
     "output_type": "display_data"
    },
    {
     "data": {
      "image/png": "[encoded data removed]",
      "text/plain": [
       "<Figure size 640x480 with 1 Axes>"
      ]
     },
     "metadata": {},
     "output_type": "display_data"
    },
    {
     "data": {
      "image/png": "[encoded data removed]",
      "text/plain": [
       "<Figure size 640x480 with 1 Axes>"
      ]
     },
     "metadata": {},
     "output_type": "display_data"
    }
   ],
   "source": [
    "col_list = ['gender', 'hsc_s', 'degree_t', 'workex', 'specialisation']\n",
    "for g in col_list:\n",
    "    sns.countplot(data = df, x = \"status\", hue = g, palette = \"viridis\")\n",
    "    plt.show()"
   ]
  },
  {
   "cell_type": "code",
   "execution_count": 34,
   "id": "41b124f5",
   "metadata": {
    "colab": {
     "base_uri": "https://localhost:8080/",
     "height": 560
    },
    "id": "41b124f5",
    "outputId": "574080a5-b006-421e-e167-6026a75593e1"
   },
   "outputs": [
    {
     "data": {
      "image/png": "[encoded data removed]",
      "text/plain": [
       "<Figure size 640x480 with 4 Axes>"
      ]
     },
     "metadata": {},
     "output_type": "display_data"
    }
   ],
   "source": [
    "fig, ax = plt.subplots(2, 2, sharey=True)\n",
    "ax[0, 0].hist(df.ssc_p, bins=10)\n",
    "ax[0, 1].hist(df.hsc_p, bins=10)\n",
    "ax[1, 0].hist(df.degree_p, bins=10)\n",
    "ax[1, 1].hist(df.mba_p, bins=10)\n",
    "\n",
    "ax[0, 0].set_ylabel(\"Count\")\n",
    "ax[1, 0].set_ylabel(\"Count\")\n",
    "ax[0, 0].set_xlabel(\"Higher Secondary Percent\")\n",
    "ax[0, 1].set_xlabel(\"Senior Secondary Percent\")\n",
    "ax[1, 0].set_xlabel(\"Degree Percent\")\n",
    "ax[1, 1].set_xlabel(\"MBA Percent\")\n",
    "fig.suptitle(\"Distribution Of Marks Percentage\")\n",
    "plt.tight_layout()\n",
    "plt.show()"
   ]
  },
  {
   "cell_type": "code",
   "execution_count": 35,
   "id": "41c0342b",
   "metadata": {
    "colab": {
     "base_uri": "https://localhost:8080/",
     "height": 543
    },
    "id": "41c0342b",
    "outputId": "5e99ef4e-acec-4a96-8e11-eab1f645a2af"
   },
   "outputs": [
    {
     "data": {
      "image/png": "[encoded data removed]",
      "text/plain": [
       "<Figure size 500x600 with 1 Axes>"
      ]
     },
     "metadata": {},
     "output_type": "display_data"
    }
   ],
   "source": [
    "plt.figure(figsize = (5,6))\n",
    "colors = ['b', 'g']\n",
    "sns.scatterplot(data = df, x = 'specialisation', y = 'degree_p', hue = 'status',\n",
    "                palette = colors, size = 'degree_p', sizes = (50, 500))\n",
    "\n",
    "plt.xlabel('Specialisation', fontsize=12)\n",
    "plt.ylabel('Degree Percentage', fontsize=12)\n",
    "plt.show()\n"
   ]
  },
  {
   "cell_type": "code",
   "execution_count": 36,
   "id": "7c26b297",
   "metadata": {
    "id": "7c26b297"
   },
   "outputs": [],
   "source": [
    "def data_stats(df, query_col, target_col, aggregation_func=np.mean, columns_list=None):\n",
    "    \"\"\"\n",
    "    functions describe the basic stats (count, probability) groupby operations based on query column on target column\n",
    "    \"\"\"\n",
    "    print(f\"Total placed based on {query_col} \\n\")\n",
    "    print(pd.crosstab(df[query_col], df[target_col], margins=\"True\"))\n",
    "    print(\"=\" * 50)\n",
    "    print(f\"Proportion of placed student based on {query_col} \\n\")\n",
    "    print(\n",
    "        pd.pivot_table(\n",
    "            data=df,\n",
    "            index=query_col,\n",
    "            values=target_col,\n",
    "            aggfunc=aggregation_func,\n",
    "            columns=columns_list,\n",
    "            sort=True,\n",
    "        )\n",
    "    )"
   ]
  },
  {
   "cell_type": "code",
   "execution_count": 37,
   "id": "c305a449",
   "metadata": {
    "colab": {
     "base_uri": "https://localhost:8080/",
     "height": 1000
    },
    "id": "c305a449",
    "outputId": "ecc282e7-3be0-4875-c032-71aafed4f85b"
   },
   "outputs": [
    {
     "data": {
      "image/png": "[encoded data removed]",
      "text/plain": [
       "<Figure size 500x400 with 1 Axes>"
      ]
     },
     "metadata": {},
     "output_type": "display_data"
    },
    {
     "name": "stdout",
     "output_type": "stream",
     "text": [
      "Total placed based on gender \n",
      "\n",
      "status  Not Placed  Placed  All\n",
      "gender                         \n",
      "F               28      48   76\n",
      "M               39     100  139\n",
      "All             67     148  215\n",
      "==================================================\n",
      "Proportion of placed student based on gender \n",
      "\n",
      "Empty DataFrame\n",
      "Columns: []\n",
      "Index: [F, M]\n"
     ]
    },
    {
     "data": {
      "image/png": "[encoded data removed]",
      "text/plain": [
       "<Figure size 500x400 with 1 Axes>"
      ]
     },
     "metadata": {},
     "output_type": "display_data"
    },
    {
     "name": "stdout",
     "output_type": "stream",
     "text": [
      "Total placed based on hsc_s \n",
      "\n",
      "status    Not Placed  Placed  All\n",
      "hsc_s                            \n",
      "Arts               5       6   11\n",
      "Commerce          34      79  113\n",
      "Science           28      63   91\n",
      "All               67     148  215\n",
      "==================================================\n",
      "Proportion of placed student based on hsc_s \n",
      "\n",
      "Empty DataFrame\n",
      "Columns: []\n",
      "Index: [Arts, Commerce, Science]\n"
     ]
    },
    {
     "data": {
      "image/png": "[encoded data removed]",
      "text/plain": [
       "<Figure size 500x400 with 1 Axes>"
      ]
     },
     "metadata": {},
     "output_type": "display_data"
    },
    {
     "name": "stdout",
     "output_type": "stream",
     "text": [
      "Total placed based on degree_t \n",
      "\n",
      "status     Not Placed  Placed  All\n",
      "degree_t                          \n",
      "Comm&Mgmt          43     102  145\n",
      "Others              6       5   11\n",
      "Sci&Tech           18      41   59\n",
      "All                67     148  215\n",
      "==================================================\n",
      "Proportion of placed student based on degree_t \n",
      "\n",
      "Empty DataFrame\n",
      "Columns: []\n",
      "Index: [Comm&Mgmt, Others, Sci&Tech]\n"
     ]
    },
    {
     "data": {
      "image/png": "[encoded data removed]",
      "text/plain": [
       "<Figure size 500x400 with 1 Axes>"
      ]
     },
     "metadata": {},
     "output_type": "display_data"
    },
    {
     "name": "stdout",
     "output_type": "stream",
     "text": [
      "Total placed based on workex \n",
      "\n",
      "status  Not Placed  Placed  All\n",
      "workex                         \n",
      "No              57      84  141\n",
      "Yes             10      64   74\n",
      "All             67     148  215\n",
      "==================================================\n",
      "Proportion of placed student based on workex \n",
      "\n",
      "Empty DataFrame\n",
      "Columns: []\n",
      "Index: [No, Yes]\n"
     ]
    },
    {
     "data": {
      "image/png": "[encoded data removed]",
      "text/plain": [
       "<Figure size 500x400 with 1 Axes>"
      ]
     },
     "metadata": {},
     "output_type": "display_data"
    },
    {
     "name": "stdout",
     "output_type": "stream",
     "text": [
      "Total placed based on specialisation \n",
      "\n",
      "status          Not Placed  Placed  All\n",
      "specialisation                         \n",
      "Mkt&Fin                 25      95  120\n",
      "Mkt&HR                  42      53   95\n",
      "All                     67     148  215\n",
      "==================================================\n",
      "Proportion of placed student based on specialisation \n",
      "\n",
      "Empty DataFrame\n",
      "Columns: []\n",
      "Index: [Mkt&Fin, Mkt&HR]\n"
     ]
    }
   ],
   "source": [
    "col_list = [\"gender\", \"hsc_s\", \"degree_t\", \"workex\", \"specialisation\"]\n",
    "for g in col_list:\n",
    "    plt.figure(figsize=(5, 4))\n",
    "    sns.countplot(\n",
    "        data=df,\n",
    "        x=\"status\",\n",
    "        hue=g,\n",
    "    )\n",
    "    plt.title(f\"{g}\")\n",
    "    plt.show()\n",
    "    data_stats(df, g, \"status\")"
   ]
  },
  {
   "cell_type": "code",
   "execution_count": 38,
   "id": "f895ae09",
   "metadata": {
    "id": "f895ae09"
   },
   "outputs": [],
   "source": [
    "df['status'] = df['status'].map({'Placed' : 1, 'Not Placed' : 0})"
   ]
  },
  {
   "cell_type": "code",
   "execution_count": 39,
   "id": "c5acada2",
   "metadata": {
    "colab": {
     "base_uri": "https://localhost:8080/",
     "height": 520
    },
    "id": "c5acada2",
    "outputId": "754814f1-9d76-4314-e81b-1fd1abe902d8"
   },
   "outputs": [
    {
     "data": {
      "text/plain": [
       "<Axes: xlabel='status', ylabel='count'>"
      ]
     },
     "execution_count": 39,
     "metadata": {},
     "output_type": "execute_result"
    },
    {
     "data": {
      "image/png": "[encoded data removed]",
      "text/plain": [
       "<Figure size 640x480 with 1 Axes>"
      ]
     },
     "metadata": {},
     "output_type": "display_data"
    }
   ],
   "source": [
    "sns.countplot(x='status',data=df)"
   ]
  },
  {
   "cell_type": "code",
   "execution_count": 40,
   "id": "e0f2bca1",
   "metadata": {
    "colab": {
     "base_uri": "https://localhost:8080/",
     "height": 524
    },
    "id": "e0f2bca1",
    "outputId": "c5fb4eb3-e591-4291-8b48-f0689fcd6896"
   },
   "outputs": [
    {
     "data": {
      "image/png": "[encoded data removed]",
      "text/plain": [
       "<Figure size 640x480 with 1 Axes>"
      ]
     },
     "metadata": {},
     "output_type": "display_data"
    }
   ],
   "source": [
    "corr = df.corr()['status'][:-1]\n",
    "\n",
    "sns.barplot(x = corr.values, y = corr.index, palette = 'viridis')\n",
    "plt.title('Does percentage matters for one to get placed?')\n",
    "plt.xlabel('Correlation')\n",
    "plt.ylabel('Variable')\n",
    "plt.show()"
   ]
  },
  {
   "cell_type": "code",
   "execution_count": 41,
   "id": "de7950e0",
   "metadata": {
    "colab": {
     "base_uri": "https://localhost:8080/",
     "height": 506
    },
    "id": "de7950e0",
    "outputId": "d6995aca-2430-4d07-f6a5-108bd8d1427e"
   },
   "outputs": [
    {
     "data": {
      "text/plain": [
       "<Axes: >"
      ]
     },
     "execution_count": 41,
     "metadata": {},
     "output_type": "execute_result"
    },
    {
     "data": {
      "image/png": "[encoded data removed]",
      "text/plain": [
       "<Figure size 640x480 with 2 Axes>"
      ]
     },
     "metadata": {},
     "output_type": "display_data"
    }
   ],
   "source": [
    "sns.heatmap(df.corr(), annot = True, cmap = 'viridis')"
   ]
  },
  {
   "cell_type": "markdown",
   "id": "50e9025f",
   "metadata": {},
   "source": [
    "Convert Categorical data into Numerical:"
   ]
  },
  {
   "cell_type": "code",
   "execution_count": 79,
   "id": "VKhAo3X66ykL",
   "metadata": {
    "colab": {
     "base_uri": "https://localhost:8080/",
     "height": 423
    },
    "id": "VKhAo3X66ykL",
    "outputId": "9398c97d-0d53-4ece-a2be-168c5961d510"
   },
   "outputs": [
    {
     "data": {
      "text/html": [
       "<div>\n",
       "<style scoped>\n",
       "    .dataframe tbody tr th:only-of-type {\n",
       "        vertical-align: middle;\n",
       "    }\n",
       "\n",
       "    .dataframe tbody tr th {\n",
       "        vertical-align: top;\n",
       "    }\n",
       "\n",
       "    .dataframe thead th {\n",
       "        text-align: right;\n",
       "    }\n",
       "</style>\n",
       "<table border=\"1\" class=\"dataframe\">\n",
       "  <thead>\n",
       "    <tr style=\"text-align: right;\">\n",
       "      <th></th>\n",
       "      <th>gender</th>\n",
       "      <th>ssc_p</th>\n",
       "      <th>hsc_p</th>\n",
       "      <th>hsc_s</th>\n",
       "      <th>degree_p</th>\n",
       "      <th>degree_t</th>\n",
       "      <th>workex</th>\n",
       "      <th>etest_p</th>\n",
       "      <th>specialisation</th>\n",
       "      <th>mba_p</th>\n",
       "      <th>status</th>\n",
       "    </tr>\n",
       "  </thead>\n",
       "  <tbody>\n",
       "    <tr>\n",
       "      <th>0</th>\n",
       "      <td>1</td>\n",
       "      <td>67.00</td>\n",
       "      <td>91.00</td>\n",
       "      <td>1</td>\n",
       "      <td>58.00</td>\n",
       "      <td>2</td>\n",
       "      <td>0</td>\n",
       "      <td>55.0</td>\n",
       "      <td>1</td>\n",
       "      <td>58.80</td>\n",
       "      <td>1</td>\n",
       "    </tr>\n",
       "    <tr>\n",
       "      <th>1</th>\n",
       "      <td>1</td>\n",
       "      <td>79.33</td>\n",
       "      <td>78.33</td>\n",
       "      <td>2</td>\n",
       "      <td>77.48</td>\n",
       "      <td>2</td>\n",
       "      <td>1</td>\n",
       "      <td>86.5</td>\n",
       "      <td>0</td>\n",
       "      <td>66.28</td>\n",
       "      <td>1</td>\n",
       "    </tr>\n",
       "    <tr>\n",
       "      <th>2</th>\n",
       "      <td>1</td>\n",
       "      <td>65.00</td>\n",
       "      <td>68.00</td>\n",
       "      <td>0</td>\n",
       "      <td>64.00</td>\n",
       "      <td>0</td>\n",
       "      <td>0</td>\n",
       "      <td>75.0</td>\n",
       "      <td>0</td>\n",
       "      <td>57.80</td>\n",
       "      <td>1</td>\n",
       "    </tr>\n",
       "    <tr>\n",
       "      <th>3</th>\n",
       "      <td>1</td>\n",
       "      <td>56.00</td>\n",
       "      <td>52.00</td>\n",
       "      <td>2</td>\n",
       "      <td>52.00</td>\n",
       "      <td>2</td>\n",
       "      <td>0</td>\n",
       "      <td>66.0</td>\n",
       "      <td>1</td>\n",
       "      <td>59.43</td>\n",
       "      <td>0</td>\n",
       "    </tr>\n",
       "    <tr>\n",
       "      <th>4</th>\n",
       "      <td>1</td>\n",
       "      <td>85.80</td>\n",
       "      <td>73.60</td>\n",
       "      <td>1</td>\n",
       "      <td>73.30</td>\n",
       "      <td>0</td>\n",
       "      <td>0</td>\n",
       "      <td>96.8</td>\n",
       "      <td>0</td>\n",
       "      <td>55.50</td>\n",
       "      <td>1</td>\n",
       "    </tr>\n",
       "    <tr>\n",
       "      <th>...</th>\n",
       "      <td>...</td>\n",
       "      <td>...</td>\n",
       "      <td>...</td>\n",
       "      <td>...</td>\n",
       "      <td>...</td>\n",
       "      <td>...</td>\n",
       "      <td>...</td>\n",
       "      <td>...</td>\n",
       "      <td>...</td>\n",
       "      <td>...</td>\n",
       "      <td>...</td>\n",
       "    </tr>\n",
       "    <tr>\n",
       "      <th>210</th>\n",
       "      <td>1</td>\n",
       "      <td>80.60</td>\n",
       "      <td>82.00</td>\n",
       "      <td>1</td>\n",
       "      <td>77.60</td>\n",
       "      <td>0</td>\n",
       "      <td>0</td>\n",
       "      <td>91.0</td>\n",
       "      <td>0</td>\n",
       "      <td>74.49</td>\n",
       "      <td>1</td>\n",
       "    </tr>\n",
       "    <tr>\n",
       "      <th>211</th>\n",
       "      <td>1</td>\n",
       "      <td>58.00</td>\n",
       "      <td>60.00</td>\n",
       "      <td>2</td>\n",
       "      <td>72.00</td>\n",
       "      <td>2</td>\n",
       "      <td>0</td>\n",
       "      <td>74.0</td>\n",
       "      <td>0</td>\n",
       "      <td>53.62</td>\n",
       "      <td>1</td>\n",
       "    </tr>\n",
       "    <tr>\n",
       "      <th>212</th>\n",
       "      <td>1</td>\n",
       "      <td>67.00</td>\n",
       "      <td>67.00</td>\n",
       "      <td>1</td>\n",
       "      <td>73.00</td>\n",
       "      <td>0</td>\n",
       "      <td>1</td>\n",
       "      <td>59.0</td>\n",
       "      <td>0</td>\n",
       "      <td>69.72</td>\n",
       "      <td>1</td>\n",
       "    </tr>\n",
       "    <tr>\n",
       "      <th>213</th>\n",
       "      <td>0</td>\n",
       "      <td>74.00</td>\n",
       "      <td>66.00</td>\n",
       "      <td>1</td>\n",
       "      <td>58.00</td>\n",
       "      <td>0</td>\n",
       "      <td>0</td>\n",
       "      <td>70.0</td>\n",
       "      <td>1</td>\n",
       "      <td>60.23</td>\n",
       "      <td>1</td>\n",
       "    </tr>\n",
       "    <tr>\n",
       "      <th>214</th>\n",
       "      <td>1</td>\n",
       "      <td>62.00</td>\n",
       "      <td>58.00</td>\n",
       "      <td>2</td>\n",
       "      <td>53.00</td>\n",
       "      <td>0</td>\n",
       "      <td>0</td>\n",
       "      <td>89.0</td>\n",
       "      <td>1</td>\n",
       "      <td>60.22</td>\n",
       "      <td>0</td>\n",
       "    </tr>\n",
       "  </tbody>\n",
       "</table>\n",
       "<p>215 rows × 11 columns</p>\n",
       "</div>"
      ],
      "text/plain": [
       "     gender  ssc_p  hsc_p  hsc_s  degree_p  degree_t  workex  etest_p  \\\n",
       "0         1  67.00  91.00      1     58.00         2       0     55.0   \n",
       "1         1  79.33  78.33      2     77.48         2       1     86.5   \n",
       "2         1  65.00  68.00      0     64.00         0       0     75.0   \n",
       "3         1  56.00  52.00      2     52.00         2       0     66.0   \n",
       "4         1  85.80  73.60      1     73.30         0       0     96.8   \n",
       "..      ...    ...    ...    ...       ...       ...     ...      ...   \n",
       "210       1  80.60  82.00      1     77.60         0       0     91.0   \n",
       "211       1  58.00  60.00      2     72.00         2       0     74.0   \n",
       "212       1  67.00  67.00      1     73.00         0       1     59.0   \n",
       "213       0  74.00  66.00      1     58.00         0       0     70.0   \n",
       "214       1  62.00  58.00      2     53.00         0       0     89.0   \n",
       "\n",
       "     specialisation  mba_p  status  \n",
       "0                 1  58.80       1  \n",
       "1                 0  66.28       1  \n",
       "2                 0  57.80       1  \n",
       "3                 1  59.43       0  \n",
       "4                 0  55.50       1  \n",
       "..              ...    ...     ...  \n",
       "210               0  74.49       1  \n",
       "211               0  53.62       1  \n",
       "212               0  69.72       1  \n",
       "213               1  60.23       1  \n",
       "214               1  60.22       0  \n",
       "\n",
       "[215 rows x 11 columns]"
      ]
     },
     "execution_count": 79,
     "metadata": {},
     "output_type": "execute_result"
    }
   ],
   "source": [
    "from sklearn.preprocessing import LabelEncoder\n",
    "le=LabelEncoder()\n",
    "lst=['gender','hsc_s','degree_t','workex','specialisation','status']\n",
    "for i in lst:\n",
    "  df[i]=le.fit_transform(df[i])\n",
    "df"
   ]
  },
  {
   "cell_type": "code",
   "execution_count": 80,
   "id": "c350705f",
   "metadata": {
    "colab": {
     "base_uri": "https://localhost:8080/",
     "height": 206
    },
    "id": "c350705f",
    "outputId": "c5bd85af-928b-4937-b8c2-4342242b48b7"
   },
   "outputs": [
    {
     "data": {
      "text/html": [
       "<div>\n",
       "<style scoped>\n",
       "    .dataframe tbody tr th:only-of-type {\n",
       "        vertical-align: middle;\n",
       "    }\n",
       "\n",
       "    .dataframe tbody tr th {\n",
       "        vertical-align: top;\n",
       "    }\n",
       "\n",
       "    .dataframe thead th {\n",
       "        text-align: right;\n",
       "    }\n",
       "</style>\n",
       "<table border=\"1\" class=\"dataframe\">\n",
       "  <thead>\n",
       "    <tr style=\"text-align: right;\">\n",
       "      <th></th>\n",
       "      <th>gender</th>\n",
       "      <th>ssc_p</th>\n",
       "      <th>hsc_p</th>\n",
       "      <th>hsc_s</th>\n",
       "      <th>degree_p</th>\n",
       "      <th>degree_t</th>\n",
       "      <th>workex</th>\n",
       "      <th>etest_p</th>\n",
       "      <th>specialisation</th>\n",
       "      <th>mba_p</th>\n",
       "      <th>status</th>\n",
       "    </tr>\n",
       "  </thead>\n",
       "  <tbody>\n",
       "    <tr>\n",
       "      <th>0</th>\n",
       "      <td>1</td>\n",
       "      <td>67.00</td>\n",
       "      <td>91.00</td>\n",
       "      <td>1</td>\n",
       "      <td>58.00</td>\n",
       "      <td>2</td>\n",
       "      <td>0</td>\n",
       "      <td>55.0</td>\n",
       "      <td>1</td>\n",
       "      <td>58.80</td>\n",
       "      <td>1</td>\n",
       "    </tr>\n",
       "    <tr>\n",
       "      <th>1</th>\n",
       "      <td>1</td>\n",
       "      <td>79.33</td>\n",
       "      <td>78.33</td>\n",
       "      <td>2</td>\n",
       "      <td>77.48</td>\n",
       "      <td>2</td>\n",
       "      <td>1</td>\n",
       "      <td>86.5</td>\n",
       "      <td>0</td>\n",
       "      <td>66.28</td>\n",
       "      <td>1</td>\n",
       "    </tr>\n",
       "    <tr>\n",
       "      <th>2</th>\n",
       "      <td>1</td>\n",
       "      <td>65.00</td>\n",
       "      <td>68.00</td>\n",
       "      <td>0</td>\n",
       "      <td>64.00</td>\n",
       "      <td>0</td>\n",
       "      <td>0</td>\n",
       "      <td>75.0</td>\n",
       "      <td>0</td>\n",
       "      <td>57.80</td>\n",
       "      <td>1</td>\n",
       "    </tr>\n",
       "    <tr>\n",
       "      <th>3</th>\n",
       "      <td>1</td>\n",
       "      <td>56.00</td>\n",
       "      <td>52.00</td>\n",
       "      <td>2</td>\n",
       "      <td>52.00</td>\n",
       "      <td>2</td>\n",
       "      <td>0</td>\n",
       "      <td>66.0</td>\n",
       "      <td>1</td>\n",
       "      <td>59.43</td>\n",
       "      <td>0</td>\n",
       "    </tr>\n",
       "    <tr>\n",
       "      <th>4</th>\n",
       "      <td>1</td>\n",
       "      <td>85.80</td>\n",
       "      <td>73.60</td>\n",
       "      <td>1</td>\n",
       "      <td>73.30</td>\n",
       "      <td>0</td>\n",
       "      <td>0</td>\n",
       "      <td>96.8</td>\n",
       "      <td>0</td>\n",
       "      <td>55.50</td>\n",
       "      <td>1</td>\n",
       "    </tr>\n",
       "  </tbody>\n",
       "</table>\n",
       "</div>"
      ],
      "text/plain": [
       "   gender  ssc_p  hsc_p  hsc_s  degree_p  degree_t  workex  etest_p  \\\n",
       "0       1  67.00  91.00      1     58.00         2       0     55.0   \n",
       "1       1  79.33  78.33      2     77.48         2       1     86.5   \n",
       "2       1  65.00  68.00      0     64.00         0       0     75.0   \n",
       "3       1  56.00  52.00      2     52.00         2       0     66.0   \n",
       "4       1  85.80  73.60      1     73.30         0       0     96.8   \n",
       "\n",
       "   specialisation  mba_p  status  \n",
       "0               1  58.80       1  \n",
       "1               0  66.28       1  \n",
       "2               0  57.80       1  \n",
       "3               1  59.43       0  \n",
       "4               0  55.50       1  "
      ]
     },
     "execution_count": 80,
     "metadata": {},
     "output_type": "execute_result"
    }
   ],
   "source": [
    "df.head()"
   ]
  },
  {
   "cell_type": "markdown",
   "id": "9c67eb4d",
   "metadata": {
    "id": "9c67eb4d"
   },
   "source": [
    "Splitting data into Train and Test:"
   ]
  },
  {
   "cell_type": "code",
   "execution_count": 81,
   "id": "be94e66a",
   "metadata": {
    "id": "be94e66a"
   },
   "outputs": [],
   "source": [
    "X = df.drop('status', axis = 1)\n",
    "y = df['status']\n",
    "\n",
    "X_train, X_test, y_train, y_test = train_test_split(X, y, test_size = 0.2, random_state = 1)\n"
   ]
  },
  {
   "cell_type": "markdown",
   "id": "pBJ9sUOd8HUc",
   "metadata": {
    "id": "pBJ9sUOd8HUc"
   },
   "source": [
    "K Neighbors classifier"
   ]
  },
  {
   "cell_type": "code",
   "execution_count": 82,
   "id": "uHaAsBtG73Ql",
   "metadata": {
    "colab": {
     "base_uri": "https://localhost:8080/"
    },
    "id": "uHaAsBtG73Ql",
    "outputId": "fb041e24-1e4a-4bf4-e540-97a3b86f236a"
   },
   "outputs": [
    {
     "name": "stdout",
     "output_type": "stream",
     "text": [
      "              precision    recall  f1-score   support\n",
      "\n",
      "           0       1.00      0.47      0.64        15\n",
      "           1       0.78      1.00      0.88        28\n",
      "\n",
      "    accuracy                           0.81        43\n",
      "   macro avg       0.89      0.73      0.76        43\n",
      "weighted avg       0.86      0.81      0.79        43\n",
      "\n"
     ]
    }
   ],
   "source": [
    "knn=KNeighborsClassifier(n_neighbors=5)\n",
    "knn.fit(X_train,y_train)\n",
    "y_pred=knn.predict(X_test)\n",
    "print(classification_report(y_test,y_pred))"
   ]
  },
  {
   "cell_type": "markdown",
   "id": "mS_z0Slf8Ojn",
   "metadata": {
    "id": "mS_z0Slf8Ojn"
   },
   "source": [
    "Support Vector Classifier"
   ]
  },
  {
   "cell_type": "code",
   "execution_count": 83,
   "id": "R0znSkUo8J-c",
   "metadata": {
    "colab": {
     "base_uri": "https://localhost:8080/"
    },
    "id": "R0znSkUo8J-c",
    "outputId": "d6356533-9117-4989-9d0d-a7f1066948eb"
   },
   "outputs": [
    {
     "name": "stdout",
     "output_type": "stream",
     "text": [
      "              precision    recall  f1-score   support\n",
      "\n",
      "           0       1.00      0.47      0.64        15\n",
      "           1       0.78      1.00      0.88        28\n",
      "\n",
      "    accuracy                           0.81        43\n",
      "   macro avg       0.89      0.73      0.76        43\n",
      "weighted avg       0.86      0.81      0.79        43\n",
      "\n"
     ]
    }
   ],
   "source": [
    "svc=SVC()\n",
    "svc.fit(X_train,y_train)\n",
    "y_pred1=svc.predict(X_test)\n",
    "print(classification_report(y_test,y_pred1))"
   ]
  },
  {
   "cell_type": "markdown",
   "id": "bwN2BSoV8acw",
   "metadata": {
    "id": "bwN2BSoV8acw"
   },
   "source": [
    "Naive Bayes"
   ]
  },
  {
   "cell_type": "code",
   "execution_count": 84,
   "id": "JCM5KYYE8cmd",
   "metadata": {
    "colab": {
     "base_uri": "https://localhost:8080/"
    },
    "id": "JCM5KYYE8cmd",
    "outputId": "993f1918-cd73-43a1-e691-cc651f258b4c"
   },
   "outputs": [
    {
     "name": "stdout",
     "output_type": "stream",
     "text": [
      "              precision    recall  f1-score   support\n",
      "\n",
      "           0       0.79      0.73      0.76        15\n",
      "           1       0.86      0.89      0.88        28\n",
      "\n",
      "    accuracy                           0.84        43\n",
      "   macro avg       0.82      0.81      0.82        43\n",
      "weighted avg       0.84      0.84      0.84        43\n",
      "\n"
     ]
    }
   ],
   "source": [
    "nb=GaussianNB()\n",
    "nb.fit(X_train,y_train)\n",
    "y_pred2=nb.predict(X_test)\n",
    "print(classification_report(y_test,y_pred2))"
   ]
  },
  {
   "cell_type": "markdown",
   "id": "5lI8N4hn8jTa",
   "metadata": {
    "id": "5lI8N4hn8jTa"
   },
   "source": [
    "Decision Tree"
   ]
  },
  {
   "cell_type": "code",
   "execution_count": 85,
   "id": "Znb5z2758nDx",
   "metadata": {
    "colab": {
     "base_uri": "https://localhost:8080/"
    },
    "id": "Znb5z2758nDx",
    "outputId": "fe84c7de-0d61-46f5-ef65-e3979e930b0d"
   },
   "outputs": [
    {
     "name": "stdout",
     "output_type": "stream",
     "text": [
      "              precision    recall  f1-score   support\n",
      "\n",
      "           0       0.69      0.60      0.64        15\n",
      "           1       0.80      0.86      0.83        28\n",
      "\n",
      "    accuracy                           0.77        43\n",
      "   macro avg       0.75      0.73      0.74        43\n",
      "weighted avg       0.76      0.77      0.76        43\n",
      "\n"
     ]
    }
   ],
   "source": [
    "dt=DecisionTreeClassifier(criterion='gini',random_state=1)\n",
    "dt.fit(X_train,y_train)\n",
    "y_pred3=dt.predict(X_test)\n",
    "print(classification_report(y_test,y_pred3))"
   ]
  },
  {
   "cell_type": "markdown",
   "id": "AgnAkZ4yAT9f",
   "metadata": {
    "id": "AgnAkZ4yAT9f"
   },
   "source": [
    "Random Forest Classifier"
   ]
  },
  {
   "cell_type": "code",
   "execution_count": 86,
   "id": "TW6e2LKcAImI",
   "metadata": {
    "colab": {
     "base_uri": "https://localhost:8080/"
    },
    "id": "TW6e2LKcAImI",
    "outputId": "162db4b3-c198-4128-d6c0-9257f1edc134"
   },
   "outputs": [
    {
     "name": "stdout",
     "output_type": "stream",
     "text": [
      "              precision    recall  f1-score   support\n",
      "\n",
      "           0       0.89      0.53      0.67        15\n",
      "           1       0.79      0.96      0.87        28\n",
      "\n",
      "    accuracy                           0.81        43\n",
      "   macro avg       0.84      0.75      0.77        43\n",
      "weighted avg       0.83      0.81      0.80        43\n",
      "\n"
     ]
    }
   ],
   "source": [
    "rf=RandomForestClassifier(n_estimators=100,random_state=1)\n",
    "rf.fit(X_train,y_train)\n",
    "y_pred4=rf.predict(X_test)\n",
    "print(classification_report(y_test,y_pred4))"
   ]
  },
  {
   "cell_type": "markdown",
   "id": "kUoIn6nR8z2a",
   "metadata": {
    "id": "kUoIn6nR8z2a"
   },
   "source": [
    "AdaBoost"
   ]
  },
  {
   "cell_type": "code",
   "execution_count": 87,
   "id": "y0dRfeQc8236",
   "metadata": {
    "colab": {
     "base_uri": "https://localhost:8080/"
    },
    "id": "y0dRfeQc8236",
    "outputId": "f5a0ea5c-c9f3-433f-9c01-a0248a5684b2"
   },
   "outputs": [
    {
     "name": "stdout",
     "output_type": "stream",
     "text": [
      "              precision    recall  f1-score   support\n",
      "\n",
      "           0       1.00      0.80      0.89        15\n",
      "           1       0.90      1.00      0.95        28\n",
      "\n",
      "    accuracy                           0.93        43\n",
      "   macro avg       0.95      0.90      0.92        43\n",
      "weighted avg       0.94      0.93      0.93        43\n",
      "\n"
     ]
    }
   ],
   "source": [
    "ad=AdaBoostClassifier()\n",
    "ad.fit(X_train,y_train)\n",
    "y_pred5=ad.predict(X_test)\n",
    "print(classification_report(y_test,y_pred5))"
   ]
  },
  {
   "cell_type": "markdown",
   "id": "jezin4fU83UO",
   "metadata": {
    "id": "jezin4fU83UO"
   },
   "source": [
    "Gradient Boosting"
   ]
  },
  {
   "cell_type": "code",
   "execution_count": 88,
   "id": "qqx0321583mE",
   "metadata": {
    "colab": {
     "base_uri": "https://localhost:8080/"
    },
    "id": "qqx0321583mE",
    "outputId": "24d39de2-1d42-4091-abfe-03a5af4a1de2"
   },
   "outputs": [
    {
     "name": "stdout",
     "output_type": "stream",
     "text": [
      "              precision    recall  f1-score   support\n",
      "\n",
      "           0       0.83      0.67      0.74        15\n",
      "           1       0.84      0.93      0.88        28\n",
      "\n",
      "    accuracy                           0.84        43\n",
      "   macro avg       0.84      0.80      0.81        43\n",
      "weighted avg       0.84      0.84      0.83        43\n",
      "\n"
     ]
    }
   ],
   "source": [
    "gb=GradientBoostingClassifier()\n",
    "gb.fit(X_train,y_train)\n",
    "y_pred6=gb.predict(X_test)\n",
    "print(classification_report(y_test,y_pred6))"
   ]
  },
  {
   "cell_type": "markdown",
   "id": "-2s-7rOG9JS_",
   "metadata": {
    "id": "-2s-7rOG9JS_"
   },
   "source": [
    "XG boosting"
   ]
  },
  {
   "cell_type": "code",
   "execution_count": 89,
   "id": "15237f1d",
   "metadata": {
    "colab": {
     "base_uri": "https://localhost:8080/"
    },
    "id": "15237f1d",
    "outputId": "2a2c798a-c98d-4219-a1b7-8f2f63c5ea17"
   },
   "outputs": [
    {
     "name": "stdout",
     "output_type": "stream",
     "text": [
      "              precision    recall  f1-score   support\n",
      "\n",
      "           0       0.86      0.80      0.83        15\n",
      "           1       0.90      0.93      0.91        28\n",
      "\n",
      "    accuracy                           0.88        43\n",
      "   macro avg       0.88      0.86      0.87        43\n",
      "weighted avg       0.88      0.88      0.88        43\n",
      "\n"
     ]
    }
   ],
   "source": [
    "xgb=XGBClassifier()\n",
    "xgb.fit(X_train,y_train)\n",
    "y_pred7=xgb.predict(X_test)\n",
    "print(classification_report(y_test,y_pred7))"
   ]
  },
  {
   "cell_type": "code",
   "execution_count": 90,
   "id": "40b8c4a4",
   "metadata": {
    "colab": {
     "base_uri": "https://localhost:8080/"
    },
    "id": "40b8c4a4",
    "outputId": "3a3d012e-ae74-49cc-e2d6-be1c50b622f4"
   },
   "outputs": [
    {
     "name": "stdout",
     "output_type": "stream",
     "text": [
      "              precision    recall  f1-score   support\n",
      "\n",
      "           0       0.80      0.80      0.80        15\n",
      "           1       0.89      0.89      0.89        28\n",
      "\n",
      "    accuracy                           0.86        43\n",
      "   macro avg       0.85      0.85      0.85        43\n",
      "weighted avg       0.86      0.86      0.86        43\n",
      "\n"
     ]
    }
   ],
   "source": [
    "logre=LogisticRegression()\n",
    "logre.fit(X_train,y_train)\n",
    "y_pred8=logre.predict(X_test)\n",
    "print(classification_report(y_test,y_pred8))"
   ]
  },
  {
   "cell_type": "markdown",
   "id": "ge5-FBra9xFs",
   "metadata": {
    "id": "ge5-FBra9xFs"
   },
   "source": [
    "Here we can see the accuracy score of AdaBoost has an accuracy of 93%"
   ]
  },
  {
   "cell_type": "code",
   "execution_count": 91,
   "id": "e04f5cb2",
   "metadata": {
    "colab": {
     "base_uri": "https://localhost:8080/"
    },
    "id": "e04f5cb2",
    "outputId": "75f1dcf2-ebeb-4a4f-d054-bd8be68bbd6d"
   },
   "outputs": [
    {
     "data": {
      "text/plain": [
       "1    148\n",
       "0     67\n",
       "Name: status, dtype: int64"
      ]
     },
     "execution_count": 91,
     "metadata": {},
     "output_type": "execute_result"
    }
   ],
   "source": [
    "y.value_counts()"
   ]
  },
  {
   "cell_type": "markdown",
   "id": "HWpurL2Z-PRc",
   "metadata": {
    "id": "HWpurL2Z-PRc"
   },
   "source": [
    "Here we can see that the target variable is highly imbalanced. Hence applying oversampling method which is Random OverSampler"
   ]
  },
  {
   "cell_type": "code",
   "execution_count": 92,
   "id": "jp61xkSp-QpA",
   "metadata": {
    "colab": {
     "base_uri": "https://localhost:8080/"
    },
    "id": "jp61xkSp-QpA",
    "outputId": "d343d9aa-84a2-49fc-ac29-3ab9fcc3ea2b"
   },
   "outputs": [
    {
     "data": {
      "text/plain": [
       "1    120\n",
       "0    120\n",
       "Name: status, dtype: int64"
      ]
     },
     "execution_count": 92,
     "metadata": {},
     "output_type": "execute_result"
    }
   ],
   "source": [
    "from imblearn.over_sampling import RandomOverSampler\n",
    "sm=RandomOverSampler()\n",
    "X_train_sm,y_train_sm=sm.fit_resample(X_train,y_train)\n",
    "y_train_sm.value_counts()"
   ]
  },
  {
   "cell_type": "markdown",
   "id": "mDyXSaxh-WUr",
   "metadata": {
    "id": "mDyXSaxh-WUr"
   },
   "source": [
    "K Neighbors classifier"
   ]
  },
  {
   "cell_type": "code",
   "execution_count": 93,
   "id": "lru5uf1z-WnG",
   "metadata": {
    "colab": {
     "base_uri": "https://localhost:8080/"
    },
    "id": "lru5uf1z-WnG",
    "outputId": "76ecbc20-1073-43c7-d819-039535733d2d"
   },
   "outputs": [
    {
     "name": "stdout",
     "output_type": "stream",
     "text": [
      "              precision    recall  f1-score   support\n",
      "\n",
      "           0       0.53      0.60      0.56        15\n",
      "           1       0.77      0.71      0.74        28\n",
      "\n",
      "    accuracy                           0.67        43\n",
      "   macro avg       0.65      0.66      0.65        43\n",
      "weighted avg       0.69      0.67      0.68        43\n",
      "\n"
     ]
    }
   ],
   "source": [
    "Knn_sm=KNeighborsClassifier()\n",
    "Knn_sm.fit(X_train_sm,y_train_sm)\n",
    "y_pred_sm=Knn_sm.predict(X_test)\n",
    "print(classification_report(y_test,y_pred_sm))"
   ]
  },
  {
   "cell_type": "markdown",
   "id": "9cY6UHOx-2-H",
   "metadata": {
    "id": "9cY6UHOx-2-H"
   },
   "source": [
    "Support Vector Machine"
   ]
  },
  {
   "cell_type": "code",
   "execution_count": 94,
   "id": "45d50d7c",
   "metadata": {
    "colab": {
     "base_uri": "https://localhost:8080/"
    },
    "id": "45d50d7c",
    "outputId": "4de21bc4-936e-4f5a-e25a-a5a88ee68137"
   },
   "outputs": [
    {
     "name": "stdout",
     "output_type": "stream",
     "text": [
      "              precision    recall  f1-score   support\n",
      "\n",
      "           0       0.71      0.67      0.69        15\n",
      "           1       0.83      0.86      0.84        28\n",
      "\n",
      "    accuracy                           0.79        43\n",
      "   macro avg       0.77      0.76      0.77        43\n",
      "weighted avg       0.79      0.79      0.79        43\n",
      "\n"
     ]
    }
   ],
   "source": [
    "sv_sm=SVC()\n",
    "sv_sm.fit(X_train_sm,y_train_sm)\n",
    "y_pred_sm1=sv_sm.predict(X_test)\n",
    "print(classification_report(y_test,y_pred_sm1))"
   ]
  },
  {
   "cell_type": "markdown",
   "id": "fRl1J7j4--DS",
   "metadata": {
    "id": "fRl1J7j4--DS"
   },
   "source": [
    "Naive Bayes"
   ]
  },
  {
   "cell_type": "code",
   "execution_count": 95,
   "id": "7a629385",
   "metadata": {
    "colab": {
     "base_uri": "https://localhost:8080/"
    },
    "id": "7a629385",
    "outputId": "9ebd066e-dd34-4047-bd79-468e0e9eb937"
   },
   "outputs": [
    {
     "name": "stdout",
     "output_type": "stream",
     "text": [
      "              precision    recall  f1-score   support\n",
      "\n",
      "           0       0.75      0.80      0.77        15\n",
      "           1       0.89      0.86      0.87        28\n",
      "\n",
      "    accuracy                           0.84        43\n",
      "   macro avg       0.82      0.83      0.82        43\n",
      "weighted avg       0.84      0.84      0.84        43\n",
      "\n"
     ]
    }
   ],
   "source": [
    "nb_sm=GaussianNB()\n",
    "nb_sm.fit(X_train_sm,y_train_sm)\n",
    "y_pred_sm2=nb_sm.predict(X_test)\n",
    "print(classification_report(y_test,y_pred_sm2))"
   ]
  },
  {
   "cell_type": "markdown",
   "id": "jH7kJhIW_KaC",
   "metadata": {
    "id": "jH7kJhIW_KaC"
   },
   "source": [
    "Decision Tree Classifier"
   ]
  },
  {
   "cell_type": "code",
   "execution_count": 96,
   "id": "JtVjhRiFeZWh",
   "metadata": {
    "colab": {
     "base_uri": "https://localhost:8080/"
    },
    "id": "JtVjhRiFeZWh",
    "outputId": "ef455fca-805e-4a1c-eb7b-3a0ba0b329b2"
   },
   "outputs": [
    {
     "name": "stdout",
     "output_type": "stream",
     "text": [
      "              precision    recall  f1-score   support\n",
      "\n",
      "           0       0.67      0.53      0.59        15\n",
      "           1       0.77      0.86      0.81        28\n",
      "\n",
      "    accuracy                           0.74        43\n",
      "   macro avg       0.72      0.70      0.70        43\n",
      "weighted avg       0.74      0.74      0.74        43\n",
      "\n"
     ]
    }
   ],
   "source": [
    "dt_sm=DecisionTreeClassifier(criterion='entropy')\n",
    "dt_sm.fit(X_train_sm,y_train_sm)\n",
    "y_pred_sm3=dt_sm.predict(X_test)\n",
    "print(classification_report(y_test,y_pred_sm3))"
   ]
  },
  {
   "cell_type": "markdown",
   "id": "fDT5mjup_RGc",
   "metadata": {
    "id": "fDT5mjup_RGc"
   },
   "source": [
    "Random Forest Classifier"
   ]
  },
  {
   "cell_type": "code",
   "execution_count": 97,
   "id": "W1_GGL_A_RT5",
   "metadata": {
    "colab": {
     "base_uri": "https://localhost:8080/"
    },
    "id": "W1_GGL_A_RT5",
    "outputId": "55e423d5-d299-4cec-f317-d02af413cebf"
   },
   "outputs": [
    {
     "name": "stdout",
     "output_type": "stream",
     "text": [
      "              precision    recall  f1-score   support\n",
      "\n",
      "           0       0.79      0.73      0.76        15\n",
      "           1       0.86      0.89      0.88        28\n",
      "\n",
      "    accuracy                           0.84        43\n",
      "   macro avg       0.82      0.81      0.82        43\n",
      "weighted avg       0.84      0.84      0.84        43\n",
      "\n"
     ]
    }
   ],
   "source": [
    "rf_sm=RandomForestClassifier(n_estimators=100,random_state=1)\n",
    "rf_sm.fit(X_train_sm,y_train_sm)\n",
    "y_pred_sm4=rf_sm.predict(X_test)\n",
    "print(classification_report(y_test,y_pred_sm4))"
   ]
  },
  {
   "cell_type": "markdown",
   "id": "vo9IdcxdAriI",
   "metadata": {
    "id": "vo9IdcxdAriI"
   },
   "source": [
    "Logistic Regression"
   ]
  },
  {
   "cell_type": "code",
   "execution_count": 98,
   "id": "i6lsAWdaAr9N",
   "metadata": {
    "colab": {
     "base_uri": "https://localhost:8080/"
    },
    "id": "i6lsAWdaAr9N",
    "outputId": "5751a13d-573d-4dac-8550-68857defa612"
   },
   "outputs": [
    {
     "name": "stdout",
     "output_type": "stream",
     "text": [
      "              precision    recall  f1-score   support\n",
      "\n",
      "           0       0.76      0.87      0.81        15\n",
      "           1       0.92      0.86      0.89        28\n",
      "\n",
      "    accuracy                           0.86        43\n",
      "   macro avg       0.84      0.86      0.85        43\n",
      "weighted avg       0.87      0.86      0.86        43\n",
      "\n"
     ]
    }
   ],
   "source": [
    "Lor_sm=LogisticRegression(random_state=0)\n",
    "Lor_sm.fit(X_train_sm,y_train_sm)\n",
    "y_pred_sm5=Lor_sm.predict(X_test)\n",
    "print(classification_report(y_test,y_pred_sm5))"
   ]
  },
  {
   "cell_type": "markdown",
   "id": "5lSjD7Q7_YB9",
   "metadata": {
    "id": "5lSjD7Q7_YB9"
   },
   "source": [
    "AdaBoost"
   ]
  },
  {
   "cell_type": "code",
   "execution_count": 99,
   "id": "EOZm-EUb_YQB",
   "metadata": {
    "colab": {
     "base_uri": "https://localhost:8080/"
    },
    "id": "EOZm-EUb_YQB",
    "outputId": "562dd591-04bb-4010-f91a-abf22212c023"
   },
   "outputs": [
    {
     "name": "stdout",
     "output_type": "stream",
     "text": [
      "              precision    recall  f1-score   support\n",
      "\n",
      "           0       0.92      0.73      0.81        15\n",
      "           1       0.87      0.96      0.92        28\n",
      "\n",
      "    accuracy                           0.88        43\n",
      "   macro avg       0.89      0.85      0.87        43\n",
      "weighted avg       0.89      0.88      0.88        43\n",
      "\n"
     ]
    }
   ],
   "source": [
    "ad_sm=AdaBoostClassifier()\n",
    "ad_sm.fit(X_train_sm,y_train_sm)\n",
    "y_pred_sm6=ad_sm.predict(X_test)\n",
    "print(classification_report(y_test,y_pred_sm6))"
   ]
  },
  {
   "cell_type": "markdown",
   "id": "voCfKemP_gs0",
   "metadata": {
    "id": "voCfKemP_gs0"
   },
   "source": [
    "Gradient Boosting"
   ]
  },
  {
   "cell_type": "code",
   "execution_count": 100,
   "id": "9UrcDC53_g7d",
   "metadata": {
    "colab": {
     "base_uri": "https://localhost:8080/"
    },
    "id": "9UrcDC53_g7d",
    "outputId": "c5b5d928-d6d1-426f-8ac9-1b6ae15700a3"
   },
   "outputs": [
    {
     "name": "stdout",
     "output_type": "stream",
     "text": [
      "              precision    recall  f1-score   support\n",
      "\n",
      "           0       0.82      0.60      0.69        15\n",
      "           1       0.81      0.93      0.87        28\n",
      "\n",
      "    accuracy                           0.81        43\n",
      "   macro avg       0.82      0.76      0.78        43\n",
      "weighted avg       0.81      0.81      0.81        43\n",
      "\n"
     ]
    }
   ],
   "source": [
    "gb_sm=GradientBoostingClassifier()\n",
    "gb_sm.fit(X_train_sm,y_train_sm)\n",
    "y_pred_sm7=gb_sm.predict(X_test)\n",
    "print(classification_report(y_test,y_pred_sm7))"
   ]
  },
  {
   "cell_type": "markdown",
   "id": "5J-mIG2u_zZw",
   "metadata": {
    "id": "5J-mIG2u_zZw"
   },
   "source": [
    "XG Boost"
   ]
  },
  {
   "cell_type": "code",
   "execution_count": 101,
   "id": "29hsgdmE_zoD",
   "metadata": {
    "colab": {
     "base_uri": "https://localhost:8080/"
    },
    "id": "29hsgdmE_zoD",
    "outputId": "9d141c35-c8eb-490a-c35b-8d9b1f16479f"
   },
   "outputs": [
    {
     "name": "stdout",
     "output_type": "stream",
     "text": [
      "              precision    recall  f1-score   support\n",
      "\n",
      "           0       0.85      0.73      0.79        15\n",
      "           1       0.87      0.93      0.90        28\n",
      "\n",
      "    accuracy                           0.86        43\n",
      "   macro avg       0.86      0.83      0.84        43\n",
      "weighted avg       0.86      0.86      0.86        43\n",
      "\n"
     ]
    }
   ],
   "source": [
    "xgb_sm=XGBClassifier()\n",
    "xgb_sm.fit(X_train_sm,y_train_sm)\n",
    "y_pred_sm8=xgb_sm.predict(X_test)\n",
    "print(classification_report(y_test,y_pred_sm8))"
   ]
  },
  {
   "cell_type": "markdown",
   "id": "157de4e5",
   "metadata": {},
   "source": [
    "Prediction:"
   ]
  },
  {
   "cell_type": "code",
   "execution_count": 102,
   "id": "d17863f9",
   "metadata": {},
   "outputs": [
    {
     "name": "stdout",
     "output_type": "stream",
     "text": [
      "[1 1 0 1 0 1 1 1 1 1 1 1 0 1 0 1 1 0 1 1 1 1 1 0 0 1 1 1 1 1 0 1 0 1 0 1 0\n",
      " 1 1 1 1 0 1]\n"
     ]
    }
   ],
   "source": [
    "predict_op=ad.predict(X_test)\n",
    "print(predict_op)"
   ]
  },
  {
   "cell_type": "code",
   "execution_count": 74,
   "id": "7676d54c",
   "metadata": {
    "colab": {
     "base_uri": "https://localhost:8080/",
     "height": 1000
    },
    "id": "7676d54c",
    "outputId": "be18b83d-99bf-41b7-bdc4-ac3916cc58da"
   },
   "outputs": [
    {
     "data": {
      "text/html": [
       "<div>\n",
       "<style scoped>\n",
       "    .dataframe tbody tr th:only-of-type {\n",
       "        vertical-align: middle;\n",
       "    }\n",
       "\n",
       "    .dataframe tbody tr th {\n",
       "        vertical-align: top;\n",
       "    }\n",
       "\n",
       "    .dataframe thead th {\n",
       "        text-align: right;\n",
       "    }\n",
       "</style>\n",
       "<table border=\"1\" class=\"dataframe\">\n",
       "  <thead>\n",
       "    <tr style=\"text-align: right;\">\n",
       "      <th></th>\n",
       "      <th>gender</th>\n",
       "      <th>ssc_p</th>\n",
       "      <th>hsc_p</th>\n",
       "      <th>hsc_s</th>\n",
       "      <th>degree_p</th>\n",
       "      <th>degree_t</th>\n",
       "      <th>workex</th>\n",
       "      <th>etest_p</th>\n",
       "      <th>specialisation</th>\n",
       "      <th>mba_p</th>\n",
       "      <th>pred</th>\n",
       "    </tr>\n",
       "  </thead>\n",
       "  <tbody>\n",
       "    <tr>\n",
       "      <th>108</th>\n",
       "      <td>1</td>\n",
       "      <td>61.00</td>\n",
       "      <td>82.00</td>\n",
       "      <td>1</td>\n",
       "      <td>69.00</td>\n",
       "      <td>0</td>\n",
       "      <td>0</td>\n",
       "      <td>84.00</td>\n",
       "      <td>0</td>\n",
       "      <td>58.31</td>\n",
       "      <td>1</td>\n",
       "    </tr>\n",
       "    <tr>\n",
       "      <th>207</th>\n",
       "      <td>1</td>\n",
       "      <td>83.33</td>\n",
       "      <td>78.00</td>\n",
       "      <td>1</td>\n",
       "      <td>61.00</td>\n",
       "      <td>0</td>\n",
       "      <td>1</td>\n",
       "      <td>88.56</td>\n",
       "      <td>0</td>\n",
       "      <td>71.55</td>\n",
       "      <td>1</td>\n",
       "    </tr>\n",
       "    <tr>\n",
       "      <th>106</th>\n",
       "      <td>1</td>\n",
       "      <td>61.08</td>\n",
       "      <td>50.00</td>\n",
       "      <td>2</td>\n",
       "      <td>54.00</td>\n",
       "      <td>2</td>\n",
       "      <td>0</td>\n",
       "      <td>71.00</td>\n",
       "      <td>0</td>\n",
       "      <td>65.69</td>\n",
       "      <td>0</td>\n",
       "    </tr>\n",
       "    <tr>\n",
       "      <th>107</th>\n",
       "      <td>1</td>\n",
       "      <td>82.00</td>\n",
       "      <td>90.00</td>\n",
       "      <td>1</td>\n",
       "      <td>83.00</td>\n",
       "      <td>0</td>\n",
       "      <td>0</td>\n",
       "      <td>80.00</td>\n",
       "      <td>1</td>\n",
       "      <td>73.52</td>\n",
       "      <td>1</td>\n",
       "    </tr>\n",
       "    <tr>\n",
       "      <th>51</th>\n",
       "      <td>1</td>\n",
       "      <td>54.40</td>\n",
       "      <td>61.12</td>\n",
       "      <td>1</td>\n",
       "      <td>56.20</td>\n",
       "      <td>0</td>\n",
       "      <td>0</td>\n",
       "      <td>67.00</td>\n",
       "      <td>1</td>\n",
       "      <td>62.65</td>\n",
       "      <td>0</td>\n",
       "    </tr>\n",
       "    <tr>\n",
       "      <th>33</th>\n",
       "      <td>0</td>\n",
       "      <td>87.00</td>\n",
       "      <td>65.00</td>\n",
       "      <td>2</td>\n",
       "      <td>81.00</td>\n",
       "      <td>0</td>\n",
       "      <td>1</td>\n",
       "      <td>88.00</td>\n",
       "      <td>0</td>\n",
       "      <td>72.78</td>\n",
       "      <td>1</td>\n",
       "    </tr>\n",
       "    <tr>\n",
       "      <th>59</th>\n",
       "      <td>1</td>\n",
       "      <td>52.60</td>\n",
       "      <td>65.58</td>\n",
       "      <td>2</td>\n",
       "      <td>72.11</td>\n",
       "      <td>2</td>\n",
       "      <td>0</td>\n",
       "      <td>57.60</td>\n",
       "      <td>0</td>\n",
       "      <td>56.66</td>\n",
       "      <td>1</td>\n",
       "    </tr>\n",
       "    <tr>\n",
       "      <th>152</th>\n",
       "      <td>0</td>\n",
       "      <td>75.40</td>\n",
       "      <td>60.50</td>\n",
       "      <td>2</td>\n",
       "      <td>84.00</td>\n",
       "      <td>2</td>\n",
       "      <td>0</td>\n",
       "      <td>98.00</td>\n",
       "      <td>0</td>\n",
       "      <td>65.25</td>\n",
       "      <td>1</td>\n",
       "    </tr>\n",
       "    <tr>\n",
       "      <th>4</th>\n",
       "      <td>1</td>\n",
       "      <td>85.80</td>\n",
       "      <td>73.60</td>\n",
       "      <td>1</td>\n",
       "      <td>73.30</td>\n",
       "      <td>0</td>\n",
       "      <td>0</td>\n",
       "      <td>96.80</td>\n",
       "      <td>0</td>\n",
       "      <td>55.50</td>\n",
       "      <td>1</td>\n",
       "    </tr>\n",
       "    <tr>\n",
       "      <th>31</th>\n",
       "      <td>0</td>\n",
       "      <td>67.00</td>\n",
       "      <td>53.00</td>\n",
       "      <td>2</td>\n",
       "      <td>65.00</td>\n",
       "      <td>2</td>\n",
       "      <td>0</td>\n",
       "      <td>64.00</td>\n",
       "      <td>1</td>\n",
       "      <td>58.32</td>\n",
       "      <td>1</td>\n",
       "    </tr>\n",
       "    <tr>\n",
       "      <th>118</th>\n",
       "      <td>1</td>\n",
       "      <td>76.00</td>\n",
       "      <td>80.00</td>\n",
       "      <td>2</td>\n",
       "      <td>78.00</td>\n",
       "      <td>2</td>\n",
       "      <td>1</td>\n",
       "      <td>97.00</td>\n",
       "      <td>1</td>\n",
       "      <td>70.48</td>\n",
       "      <td>1</td>\n",
       "    </tr>\n",
       "    <tr>\n",
       "      <th>39</th>\n",
       "      <td>1</td>\n",
       "      <td>81.00</td>\n",
       "      <td>68.00</td>\n",
       "      <td>2</td>\n",
       "      <td>64.00</td>\n",
       "      <td>2</td>\n",
       "      <td>0</td>\n",
       "      <td>93.00</td>\n",
       "      <td>0</td>\n",
       "      <td>62.56</td>\n",
       "      <td>1</td>\n",
       "    </tr>\n",
       "    <tr>\n",
       "      <th>93</th>\n",
       "      <td>1</td>\n",
       "      <td>52.00</td>\n",
       "      <td>62.00</td>\n",
       "      <td>1</td>\n",
       "      <td>54.00</td>\n",
       "      <td>0</td>\n",
       "      <td>0</td>\n",
       "      <td>72.00</td>\n",
       "      <td>1</td>\n",
       "      <td>55.41</td>\n",
       "      <td>0</td>\n",
       "    </tr>\n",
       "    <tr>\n",
       "      <th>69</th>\n",
       "      <td>1</td>\n",
       "      <td>73.00</td>\n",
       "      <td>73.00</td>\n",
       "      <td>2</td>\n",
       "      <td>66.00</td>\n",
       "      <td>2</td>\n",
       "      <td>1</td>\n",
       "      <td>70.00</td>\n",
       "      <td>0</td>\n",
       "      <td>68.07</td>\n",
       "      <td>1</td>\n",
       "    </tr>\n",
       "    <tr>\n",
       "      <th>161</th>\n",
       "      <td>1</td>\n",
       "      <td>55.60</td>\n",
       "      <td>51.00</td>\n",
       "      <td>1</td>\n",
       "      <td>57.50</td>\n",
       "      <td>0</td>\n",
       "      <td>0</td>\n",
       "      <td>57.63</td>\n",
       "      <td>1</td>\n",
       "      <td>62.72</td>\n",
       "      <td>0</td>\n",
       "    </tr>\n",
       "    <tr>\n",
       "      <th>112</th>\n",
       "      <td>1</td>\n",
       "      <td>58.00</td>\n",
       "      <td>61.00</td>\n",
       "      <td>1</td>\n",
       "      <td>61.00</td>\n",
       "      <td>0</td>\n",
       "      <td>0</td>\n",
       "      <td>58.00</td>\n",
       "      <td>1</td>\n",
       "      <td>53.94</td>\n",
       "      <td>1</td>\n",
       "    </tr>\n",
       "    <tr>\n",
       "      <th>94</th>\n",
       "      <td>1</td>\n",
       "      <td>58.00</td>\n",
       "      <td>62.00</td>\n",
       "      <td>1</td>\n",
       "      <td>64.00</td>\n",
       "      <td>0</td>\n",
       "      <td>0</td>\n",
       "      <td>53.88</td>\n",
       "      <td>0</td>\n",
       "      <td>54.97</td>\n",
       "      <td>1</td>\n",
       "    </tr>\n",
       "    <tr>\n",
       "      <th>97</th>\n",
       "      <td>0</td>\n",
       "      <td>70.50</td>\n",
       "      <td>62.50</td>\n",
       "      <td>1</td>\n",
       "      <td>61.00</td>\n",
       "      <td>0</td>\n",
       "      <td>0</td>\n",
       "      <td>93.91</td>\n",
       "      <td>0</td>\n",
       "      <td>69.03</td>\n",
       "      <td>1</td>\n",
       "    </tr>\n",
       "    <tr>\n",
       "      <th>151</th>\n",
       "      <td>1</td>\n",
       "      <td>65.00</td>\n",
       "      <td>65.00</td>\n",
       "      <td>1</td>\n",
       "      <td>75.00</td>\n",
       "      <td>0</td>\n",
       "      <td>0</td>\n",
       "      <td>83.00</td>\n",
       "      <td>0</td>\n",
       "      <td>58.87</td>\n",
       "      <td>1</td>\n",
       "    </tr>\n",
       "    <tr>\n",
       "      <th>38</th>\n",
       "      <td>0</td>\n",
       "      <td>73.00</td>\n",
       "      <td>58.00</td>\n",
       "      <td>2</td>\n",
       "      <td>66.00</td>\n",
       "      <td>0</td>\n",
       "      <td>0</td>\n",
       "      <td>53.70</td>\n",
       "      <td>1</td>\n",
       "      <td>56.86</td>\n",
       "      <td>1</td>\n",
       "    </tr>\n",
       "    <tr>\n",
       "      <th>44</th>\n",
       "      <td>0</td>\n",
       "      <td>77.00</td>\n",
       "      <td>73.00</td>\n",
       "      <td>1</td>\n",
       "      <td>81.00</td>\n",
       "      <td>0</td>\n",
       "      <td>1</td>\n",
       "      <td>89.00</td>\n",
       "      <td>0</td>\n",
       "      <td>69.70</td>\n",
       "      <td>1</td>\n",
       "    </tr>\n",
       "    <tr>\n",
       "      <th>200</th>\n",
       "      <td>1</td>\n",
       "      <td>69.00</td>\n",
       "      <td>60.00</td>\n",
       "      <td>1</td>\n",
       "      <td>65.00</td>\n",
       "      <td>0</td>\n",
       "      <td>0</td>\n",
       "      <td>87.55</td>\n",
       "      <td>0</td>\n",
       "      <td>52.81</td>\n",
       "      <td>1</td>\n",
       "    </tr>\n",
       "    <tr>\n",
       "      <th>84</th>\n",
       "      <td>1</td>\n",
       "      <td>70.00</td>\n",
       "      <td>63.00</td>\n",
       "      <td>2</td>\n",
       "      <td>70.00</td>\n",
       "      <td>2</td>\n",
       "      <td>1</td>\n",
       "      <td>55.00</td>\n",
       "      <td>0</td>\n",
       "      <td>62.00</td>\n",
       "      <td>1</td>\n",
       "    </tr>\n",
       "    <tr>\n",
       "      <th>18</th>\n",
       "      <td>0</td>\n",
       "      <td>63.00</td>\n",
       "      <td>66.00</td>\n",
       "      <td>1</td>\n",
       "      <td>64.00</td>\n",
       "      <td>0</td>\n",
       "      <td>0</td>\n",
       "      <td>68.00</td>\n",
       "      <td>1</td>\n",
       "      <td>64.08</td>\n",
       "      <td>1</td>\n",
       "    </tr>\n",
       "    <tr>\n",
       "      <th>158</th>\n",
       "      <td>1</td>\n",
       "      <td>67.00</td>\n",
       "      <td>63.00</td>\n",
       "      <td>2</td>\n",
       "      <td>64.00</td>\n",
       "      <td>2</td>\n",
       "      <td>0</td>\n",
       "      <td>60.00</td>\n",
       "      <td>0</td>\n",
       "      <td>61.87</td>\n",
       "      <td>1</td>\n",
       "    </tr>\n",
       "    <tr>\n",
       "      <th>35</th>\n",
       "      <td>0</td>\n",
       "      <td>69.00</td>\n",
       "      <td>78.00</td>\n",
       "      <td>1</td>\n",
       "      <td>72.00</td>\n",
       "      <td>0</td>\n",
       "      <td>0</td>\n",
       "      <td>71.00</td>\n",
       "      <td>1</td>\n",
       "      <td>62.74</td>\n",
       "      <td>1</td>\n",
       "    </tr>\n",
       "    <tr>\n",
       "      <th>73</th>\n",
       "      <td>1</td>\n",
       "      <td>64.60</td>\n",
       "      <td>83.83</td>\n",
       "      <td>1</td>\n",
       "      <td>71.72</td>\n",
       "      <td>0</td>\n",
       "      <td>0</td>\n",
       "      <td>86.00</td>\n",
       "      <td>0</td>\n",
       "      <td>59.75</td>\n",
       "      <td>1</td>\n",
       "    </tr>\n",
       "    <tr>\n",
       "      <th>122</th>\n",
       "      <td>0</td>\n",
       "      <td>66.50</td>\n",
       "      <td>66.80</td>\n",
       "      <td>0</td>\n",
       "      <td>69.30</td>\n",
       "      <td>0</td>\n",
       "      <td>1</td>\n",
       "      <td>80.40</td>\n",
       "      <td>0</td>\n",
       "      <td>71.00</td>\n",
       "      <td>1</td>\n",
       "    </tr>\n",
       "    <tr>\n",
       "      <th>19</th>\n",
       "      <td>1</td>\n",
       "      <td>60.00</td>\n",
       "      <td>67.00</td>\n",
       "      <td>0</td>\n",
       "      <td>70.00</td>\n",
       "      <td>0</td>\n",
       "      <td>1</td>\n",
       "      <td>50.48</td>\n",
       "      <td>0</td>\n",
       "      <td>77.89</td>\n",
       "      <td>1</td>\n",
       "    </tr>\n",
       "    <tr>\n",
       "      <th>62</th>\n",
       "      <td>0</td>\n",
       "      <td>86.50</td>\n",
       "      <td>64.20</td>\n",
       "      <td>2</td>\n",
       "      <td>67.40</td>\n",
       "      <td>2</td>\n",
       "      <td>0</td>\n",
       "      <td>59.00</td>\n",
       "      <td>0</td>\n",
       "      <td>59.69</td>\n",
       "      <td>1</td>\n",
       "    </tr>\n",
       "    <tr>\n",
       "      <th>169</th>\n",
       "      <td>1</td>\n",
       "      <td>59.96</td>\n",
       "      <td>42.16</td>\n",
       "      <td>2</td>\n",
       "      <td>61.26</td>\n",
       "      <td>2</td>\n",
       "      <td>0</td>\n",
       "      <td>54.48</td>\n",
       "      <td>1</td>\n",
       "      <td>65.48</td>\n",
       "      <td>0</td>\n",
       "    </tr>\n",
       "    <tr>\n",
       "      <th>181</th>\n",
       "      <td>1</td>\n",
       "      <td>62.00</td>\n",
       "      <td>60.33</td>\n",
       "      <td>2</td>\n",
       "      <td>64.21</td>\n",
       "      <td>2</td>\n",
       "      <td>0</td>\n",
       "      <td>63.00</td>\n",
       "      <td>1</td>\n",
       "      <td>60.02</td>\n",
       "      <td>1</td>\n",
       "    </tr>\n",
       "    <tr>\n",
       "      <th>34</th>\n",
       "      <td>1</td>\n",
       "      <td>62.00</td>\n",
       "      <td>51.00</td>\n",
       "      <td>2</td>\n",
       "      <td>52.00</td>\n",
       "      <td>1</td>\n",
       "      <td>0</td>\n",
       "      <td>68.44</td>\n",
       "      <td>1</td>\n",
       "      <td>62.77</td>\n",
       "      <td>0</td>\n",
       "    </tr>\n",
       "    <tr>\n",
       "      <th>11</th>\n",
       "      <td>1</td>\n",
       "      <td>69.60</td>\n",
       "      <td>68.40</td>\n",
       "      <td>1</td>\n",
       "      <td>78.30</td>\n",
       "      <td>0</td>\n",
       "      <td>1</td>\n",
       "      <td>60.00</td>\n",
       "      <td>0</td>\n",
       "      <td>63.70</td>\n",
       "      <td>1</td>\n",
       "    </tr>\n",
       "    <tr>\n",
       "      <th>29</th>\n",
       "      <td>1</td>\n",
       "      <td>62.00</td>\n",
       "      <td>67.00</td>\n",
       "      <td>1</td>\n",
       "      <td>58.00</td>\n",
       "      <td>0</td>\n",
       "      <td>0</td>\n",
       "      <td>77.00</td>\n",
       "      <td>0</td>\n",
       "      <td>51.29</td>\n",
       "      <td>1</td>\n",
       "    </tr>\n",
       "    <tr>\n",
       "      <th>0</th>\n",
       "      <td>1</td>\n",
       "      <td>67.00</td>\n",
       "      <td>91.00</td>\n",
       "      <td>1</td>\n",
       "      <td>58.00</td>\n",
       "      <td>2</td>\n",
       "      <td>0</td>\n",
       "      <td>55.00</td>\n",
       "      <td>1</td>\n",
       "      <td>58.80</td>\n",
       "      <td>1</td>\n",
       "    </tr>\n",
       "    <tr>\n",
       "      <th>159</th>\n",
       "      <td>1</td>\n",
       "      <td>52.00</td>\n",
       "      <td>49.00</td>\n",
       "      <td>1</td>\n",
       "      <td>58.00</td>\n",
       "      <td>0</td>\n",
       "      <td>0</td>\n",
       "      <td>62.00</td>\n",
       "      <td>1</td>\n",
       "      <td>60.59</td>\n",
       "      <td>0</td>\n",
       "    </tr>\n",
       "    <tr>\n",
       "      <th>148</th>\n",
       "      <td>0</td>\n",
       "      <td>77.00</td>\n",
       "      <td>86.00</td>\n",
       "      <td>0</td>\n",
       "      <td>56.00</td>\n",
       "      <td>1</td>\n",
       "      <td>0</td>\n",
       "      <td>57.00</td>\n",
       "      <td>0</td>\n",
       "      <td>64.08</td>\n",
       "      <td>1</td>\n",
       "    </tr>\n",
       "    <tr>\n",
       "      <th>130</th>\n",
       "      <td>1</td>\n",
       "      <td>62.00</td>\n",
       "      <td>65.00</td>\n",
       "      <td>1</td>\n",
       "      <td>60.00</td>\n",
       "      <td>0</td>\n",
       "      <td>0</td>\n",
       "      <td>84.00</td>\n",
       "      <td>0</td>\n",
       "      <td>64.15</td>\n",
       "      <td>1</td>\n",
       "    </tr>\n",
       "    <tr>\n",
       "      <th>28</th>\n",
       "      <td>1</td>\n",
       "      <td>76.76</td>\n",
       "      <td>76.50</td>\n",
       "      <td>1</td>\n",
       "      <td>67.50</td>\n",
       "      <td>0</td>\n",
       "      <td>1</td>\n",
       "      <td>73.35</td>\n",
       "      <td>0</td>\n",
       "      <td>64.15</td>\n",
       "      <td>1</td>\n",
       "    </tr>\n",
       "    <tr>\n",
       "      <th>16</th>\n",
       "      <td>1</td>\n",
       "      <td>63.00</td>\n",
       "      <td>66.20</td>\n",
       "      <td>1</td>\n",
       "      <td>65.60</td>\n",
       "      <td>0</td>\n",
       "      <td>1</td>\n",
       "      <td>60.00</td>\n",
       "      <td>0</td>\n",
       "      <td>62.54</td>\n",
       "      <td>1</td>\n",
       "    </tr>\n",
       "    <tr>\n",
       "      <th>198</th>\n",
       "      <td>0</td>\n",
       "      <td>67.00</td>\n",
       "      <td>70.00</td>\n",
       "      <td>1</td>\n",
       "      <td>65.00</td>\n",
       "      <td>1</td>\n",
       "      <td>0</td>\n",
       "      <td>88.00</td>\n",
       "      <td>1</td>\n",
       "      <td>71.96</td>\n",
       "      <td>1</td>\n",
       "    </tr>\n",
       "    <tr>\n",
       "      <th>195</th>\n",
       "      <td>1</td>\n",
       "      <td>66.00</td>\n",
       "      <td>76.00</td>\n",
       "      <td>1</td>\n",
       "      <td>72.00</td>\n",
       "      <td>0</td>\n",
       "      <td>1</td>\n",
       "      <td>84.00</td>\n",
       "      <td>1</td>\n",
       "      <td>58.95</td>\n",
       "      <td>1</td>\n",
       "    </tr>\n",
       "  </tbody>\n",
       "</table>\n",
       "</div>"
      ],
      "text/plain": [
       "     gender  ssc_p  hsc_p  hsc_s  degree_p  degree_t  workex  etest_p  \\\n",
       "108       1  61.00  82.00      1     69.00         0       0    84.00   \n",
       "207       1  83.33  78.00      1     61.00         0       1    88.56   \n",
       "106       1  61.08  50.00      2     54.00         2       0    71.00   \n",
       "107       1  82.00  90.00      1     83.00         0       0    80.00   \n",
       "51        1  54.40  61.12      1     56.20         0       0    67.00   \n",
       "33        0  87.00  65.00      2     81.00         0       1    88.00   \n",
       "59        1  52.60  65.58      2     72.11         2       0    57.60   \n",
       "152       0  75.40  60.50      2     84.00         2       0    98.00   \n",
       "4         1  85.80  73.60      1     73.30         0       0    96.80   \n",
       "31        0  67.00  53.00      2     65.00         2       0    64.00   \n",
       "118       1  76.00  80.00      2     78.00         2       1    97.00   \n",
       "39        1  81.00  68.00      2     64.00         2       0    93.00   \n",
       "93        1  52.00  62.00      1     54.00         0       0    72.00   \n",
       "69        1  73.00  73.00      2     66.00         2       1    70.00   \n",
       "161       1  55.60  51.00      1     57.50         0       0    57.63   \n",
       "112       1  58.00  61.00      1     61.00         0       0    58.00   \n",
       "94        1  58.00  62.00      1     64.00         0       0    53.88   \n",
       "97        0  70.50  62.50      1     61.00         0       0    93.91   \n",
       "151       1  65.00  65.00      1     75.00         0       0    83.00   \n",
       "38        0  73.00  58.00      2     66.00         0       0    53.70   \n",
       "44        0  77.00  73.00      1     81.00         0       1    89.00   \n",
       "200       1  69.00  60.00      1     65.00         0       0    87.55   \n",
       "84        1  70.00  63.00      2     70.00         2       1    55.00   \n",
       "18        0  63.00  66.00      1     64.00         0       0    68.00   \n",
       "158       1  67.00  63.00      2     64.00         2       0    60.00   \n",
       "35        0  69.00  78.00      1     72.00         0       0    71.00   \n",
       "73        1  64.60  83.83      1     71.72         0       0    86.00   \n",
       "122       0  66.50  66.80      0     69.30         0       1    80.40   \n",
       "19        1  60.00  67.00      0     70.00         0       1    50.48   \n",
       "62        0  86.50  64.20      2     67.40         2       0    59.00   \n",
       "169       1  59.96  42.16      2     61.26         2       0    54.48   \n",
       "181       1  62.00  60.33      2     64.21         2       0    63.00   \n",
       "34        1  62.00  51.00      2     52.00         1       0    68.44   \n",
       "11        1  69.60  68.40      1     78.30         0       1    60.00   \n",
       "29        1  62.00  67.00      1     58.00         0       0    77.00   \n",
       "0         1  67.00  91.00      1     58.00         2       0    55.00   \n",
       "159       1  52.00  49.00      1     58.00         0       0    62.00   \n",
       "148       0  77.00  86.00      0     56.00         1       0    57.00   \n",
       "130       1  62.00  65.00      1     60.00         0       0    84.00   \n",
       "28        1  76.76  76.50      1     67.50         0       1    73.35   \n",
       "16        1  63.00  66.20      1     65.60         0       1    60.00   \n",
       "198       0  67.00  70.00      1     65.00         1       0    88.00   \n",
       "195       1  66.00  76.00      1     72.00         0       1    84.00   \n",
       "\n",
       "     specialisation  mba_p  pred  \n",
       "108               0  58.31     1  \n",
       "207               0  71.55     1  \n",
       "106               0  65.69     0  \n",
       "107               1  73.52     1  \n",
       "51                1  62.65     0  \n",
       "33                0  72.78     1  \n",
       "59                0  56.66     1  \n",
       "152               0  65.25     1  \n",
       "4                 0  55.50     1  \n",
       "31                1  58.32     1  \n",
       "118               1  70.48     1  \n",
       "39                0  62.56     1  \n",
       "93                1  55.41     0  \n",
       "69                0  68.07     1  \n",
       "161               1  62.72     0  \n",
       "112               1  53.94     1  \n",
       "94                0  54.97     1  \n",
       "97                0  69.03     1  \n",
       "151               0  58.87     1  \n",
       "38                1  56.86     1  \n",
       "44                0  69.70     1  \n",
       "200               0  52.81     1  \n",
       "84                0  62.00     1  \n",
       "18                1  64.08     1  \n",
       "158               0  61.87     1  \n",
       "35                1  62.74     1  \n",
       "73                0  59.75     1  \n",
       "122               0  71.00     1  \n",
       "19                0  77.89     1  \n",
       "62                0  59.69     1  \n",
       "169               1  65.48     0  \n",
       "181               1  60.02     1  \n",
       "34                1  62.77     0  \n",
       "11                0  63.70     1  \n",
       "29                0  51.29     1  \n",
       "0                 1  58.80     1  \n",
       "159               1  60.59     0  \n",
       "148               0  64.08     1  \n",
       "130               0  64.15     1  \n",
       "28                0  64.15     1  \n",
       "16                0  62.54     1  \n",
       "198               1  71.96     1  \n",
       "195               1  58.95     1  "
      ]
     },
     "execution_count": 74,
     "metadata": {},
     "output_type": "execute_result"
    }
   ],
   "source": [
    "X_test['pred'] = y_pred\n",
    "X_test"
   ]
  },
  {
   "cell_type": "code",
   "execution_count": 103,
   "id": "mnb4FnXCEle1",
   "metadata": {
    "colab": {
     "base_uri": "https://localhost:8080/"
    },
    "id": "mnb4FnXCEle1",
    "outputId": "e7d95993-2ea3-468b-9ec5-080d6730dead"
   },
   "outputs": [
    {
     "name": "stdout",
     "output_type": "stream",
     "text": [
      "The Accuracy Score for AdaBoost 0.9302325581395349\n"
     ]
    }
   ],
   "source": [
    "acc=accuracy_score(predict_op,y_test)\n",
    "print(\"The Accuracy Score for AdaBoost\",acc)"
   ]
  },
  {
   "cell_type": "markdown",
   "id": "jQZ0Tj2m_8BI",
   "metadata": {
    "id": "jQZ0Tj2m_8BI"
   },
   "source": [
    "After applying oversampling technique we can see that the accuracy of Random Forest has increased from 81 to 84.\n",
    "\n",
    "But We can see that the Accuracy of Adaboost classifier remains the highest before applying oversampling which is 93%"
   ]
  },
  {
   "cell_type": "code",
   "execution_count": null,
   "id": "gZKypLkLF0H5",
   "metadata": {
    "id": "gZKypLkLF0H5"
   },
   "outputs": [],
   "source": []
  }
 ],
 "metadata": {
  "colab": {
   "provenance": []
  },
  "kernelspec": {
   "display_name": "Python 3 (ipykernel)",
   "language": "python",
   "name": "python3"
  },
  "language_info": {
   "codemirror_mode": {
    "name": "ipython",
    "version": 3
   },
   "file_extension": ".py",
   "mimetype": "text/x-python",
   "name": "python",
   "nbconvert_exporter": "python",
   "pygments_lexer": "ipython3",
   "version": "3.11.3"
  }
 },
 "nbformat": 4,
 "nbformat_minor": 5
}
